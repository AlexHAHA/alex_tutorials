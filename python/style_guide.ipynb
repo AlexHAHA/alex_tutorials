{
 "cells": [
  {
   "cell_type": "markdown",
   "metadata": {},
   "source": [
    "## 命名"
   ]
  },
  {
   "cell_type": "markdown",
   "metadata": {},
   "source": [
    "|Type\t|Public\t|Internal|\n",
    "| :- | :- | :-: |\n",
    "|Modules| lower_with_under| _lower_with_under|\n",
    "|Packages|\tlower_with_under\t |\n",
    "|Classes|\tCapWords|\t_CapWords|\n",
    "|Exceptions\t|CapWords|\n",
    "|Functions\t|lower_with_under()\t|_lower_with_under()|\n",
    "|Global/Class Constants\t|CAPS_WITH_UNDER|\t_CAPS_WITH_UNDER|\n",
    "|Global/Class Variables\t|lower_with_under|\t_lower_with_under|\n",
    "|Instance Variables|\tlower_with_under|\t_lower_with_under (protected) or __lower_with_under (private)|\n",
    "|Method Names|\tlower_with_under()\t|_lower_with_under() (protected) or __lower_with_under() (private)|\n",
    "|Function|Method Parameters|\tlower_with_under\t| \n",
    "|Local Variables\t|lower_with_under\t| "
   ]
  },
  {
   "cell_type": "markdown",
   "metadata": {},
   "source": [
    "## 注释"
   ]
  },
  {
   "cell_type": "markdown",
   "metadata": {},
   "source": [
    "### 函数\n",
    "函数注释内容需要包括**功能描述**,**Args**和**Return**\n",
    "\n",
    "可以通过\\_\\_doc\\_\\_成员来查看函数的注释内容。例如:\n",
    "```func.__doc__```"
   ]
  },
  {
   "cell_type": "code",
   "execution_count": 2,
   "metadata": {},
   "outputs": [],
   "source": [
    "def fetch_bigtable_rows(big_table, keys):\n",
    "    \"\"\"Fetches rows from a Bigtable.\n",
    "\n",
    "    Retrieves rows pertaining to the given keys from the Table instance\n",
    "    represented by big_table.  \n",
    "\n",
    "    Args:\n",
    "        big_table: An open Bigtable Table instance.\n",
    "        keys: A sequence of strings representing the key of each table row\n",
    "            to fetch.\n",
    "\n",
    "    Returns:\n",
    "        A dict mapping keys to the corresponding table row data\n",
    "        fetched. Each row is represented as a tuple of strings. For\n",
    "        example:\n",
    "\n",
    "        {'Serak': ('Rigel VII', 'Preparer'),\n",
    "         'Zim': ('Irk', 'Invader'),\n",
    "         'Lrrr': ('Omicron Persei 8', 'Emperor')}\n",
    "\n",
    "        If a key from the keys argument is missing from the dictionary,\n",
    "        then that row was not found in the table.\n",
    "\n",
    "    Raises:\n",
    "        IOError: An error occurred accessing the bigtable.Table object.\n",
    "    \"\"\"\n",
    "    pass"
   ]
  },
  {
   "cell_type": "markdown",
   "metadata": {},
   "source": [
    "### 类\n",
    "类注释内容应该包括**功能描述**和**Attributes**。"
   ]
  },
  {
   "cell_type": "code",
   "execution_count": null,
   "metadata": {},
   "outputs": [],
   "source": [
    "class SampleClass(object):\n",
    "    \"\"\"Summary of class here.\n",
    "\n",
    "    Longer class information....\n",
    "    Longer class information....\n",
    "\n",
    "    Attributes:\n",
    "        likes_spam: A boolean indicating if we like SPAM or not.\n",
    "        eggs: An integer count of the eggs we have laid.\n",
    "    \"\"\"\n",
    "\n",
    "    def __init__(self, likes_spam=False):\n",
    "        \"\"\"Inits SampleClass with blah.\"\"\"\n",
    "        self.likes_spam = likes_spam\n",
    "        self.eggs = 0\n",
    "\n",
    "    def public_method(self):\n",
    "        \"\"\"Performs operation blah.\"\"\""
   ]
  },
  {
   "cell_type": "markdown",
   "metadata": {},
   "source": [
    "## 文件"
   ]
  },
  {
   "cell_type": "markdown",
   "metadata": {},
   "source": [
    "如下是student_sys.py\n",
    "```\n",
    "\"\"\"学生系统\n",
    "The module contains the following public classes:\n",
    "    - StudentManager -- the student manager class\n",
    "\"\"\"\n",
    "__version__ = '1.1'\n",
    "__all__ = [\n",
    "    'StudentManager',\n",
    "    'SCHOOL',\n",
    "]\n",
    "import math\n",
    "SCHOOL = 'UESTC'\n",
    "\n",
    "class StudentManager(object):\n",
    "    \"\"\"\n",
    "    \"\"\"\n",
    "    def __init__():\n",
    "        pass\n",
    "```"
   ]
  },
  {
   "cell_type": "code",
   "execution_count": null,
   "metadata": {},
   "outputs": [],
   "source": []
  }
 ],
 "metadata": {
  "kernelspec": {
   "display_name": "Python 3",
   "language": "python",
   "name": "python3"
  },
  "language_info": {
   "codemirror_mode": {
    "name": "ipython",
    "version": 3
   },
   "file_extension": ".py",
   "mimetype": "text/x-python",
   "name": "python",
   "nbconvert_exporter": "python",
   "pygments_lexer": "ipython3",
   "version": "3.6.9"
  }
 },
 "nbformat": 4,
 "nbformat_minor": 2
}
