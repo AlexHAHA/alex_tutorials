{
 "cells": [
  {
   "cell_type": "markdown",
   "metadata": {},
   "source": [
    "## XML\n",
    "XML 指可扩展标记语言（eXtensible Markup Language），标准通用标记语言的子集，是一种用于标记电子文件使其具有结构性的标记语言。<br>\n",
    "XML 被设计用来传输和存储数据。<br>\n",
    "XML 是一套定义语义标记的规则，这些标记将文档分成许多部件并对这些部件加以标识。"
   ]
  },
  {
   "cell_type": "markdown",
   "metadata": {},
   "source": [
    "### XML DOM基础概念\n",
    "DOM基于树的概念存储，基于树读取、修改，是有一个个节点构成，每个节点必须挂载到上级节点(或者称为父节点)，整个DOM有一个根节点。\n",
    "- 获取树\n",
    "\n",
    "domTree = parse(\"./customer.xml\")\n",
    "\n",
    "- 创建树\n",
    "\n",
    "domTree = xml.dom.minidom.Document()\n",
    "\n",
    "- 节点创建\n",
    "\n",
    "son_node = domTree.createElement(\"customer\")\n",
    "\n",
    "- 节点挂载\n",
    "\n",
    "father_node.appendChild(son_node)\n",
    "\n",
    "- 可以给节点添加属性（attribute）\n",
    "\n",
    "使用函数：setAttribute()\n",
    "```\n",
    "-<student name=\"alex\">\n",
    "\n",
    " </student>\n",
    "```\n",
    "- 可以给节点添加文本描述\n",
    "\n",
    "使用函数createTextNode()\n",
    "```\n",
    "<book>\"programming python\"</book>\n",
    "```"
   ]
  },
  {
   "cell_type": "markdown",
   "metadata": {},
   "source": []
  },
  {
   "cell_type": "markdown",
   "metadata": {},
   "source": [
    "### 示例1：XML读"
   ]
  },
  {
   "cell_type": "code",
   "execution_count": 1,
   "metadata": {},
   "outputs": [
    {
     "name": "stdout",
     "output_type": "stream",
     "text": [
      "Root element : New Arrivals\n",
      "*****Movie*****\n",
      "Title: Enemy Behind\n",
      "Type: War, Thriller\n",
      "Format: DVD\n",
      "Rating: PG\n",
      "Description: Talk about a US-Japan war\n",
      "*****Movie*****\n",
      "Title: Transformers\n",
      "Type: Anime, Science Fiction\n",
      "Format: DVD\n",
      "Rating: R\n",
      "Description: A schientific fiction\n",
      "*****Movie*****\n",
      "Title: Trigun\n",
      "Type: Anime, Action\n",
      "Format: DVD\n",
      "Rating: PG\n",
      "Description: Vash the Stampede!\n",
      "*****Movie*****\n",
      "Title: Ishtar\n",
      "Type: Comedy\n",
      "Format: VHS\n",
      "Rating: PG\n",
      "Description: Viewable boredom\n"
     ]
    }
   ],
   "source": [
    "from xml.dom.minidom import parse\n",
    "import xml.dom.minidom\n",
    "\n",
    "# 使用minidom解析器打开 XML 文档\n",
    "DOMTree = xml.dom.minidom.parse(\"resources/movies.xml\")\n",
    "# 文档根元素\n",
    "collection = DOMTree.documentElement\n",
    "if collection.hasAttribute(\"shelf\"):\n",
    "   print (\"Root element : %s\" % collection.getAttribute(\"shelf\"))\n",
    "\n",
    "# 在集合中获取所有电影\n",
    "movies = collection.getElementsByTagName(\"movie\")\n",
    "\n",
    "# 打印每部电影的详细信息\n",
    "for movie in movies:\n",
    "   print (\"*****Movie*****\")\n",
    "   if movie.hasAttribute(\"title\"):\n",
    "      print (\"Title: %s\" % movie.getAttribute(\"title\"))\n",
    "\n",
    "   type = movie.getElementsByTagName('type')[0]\n",
    "   print (\"Type: %s\" % type.childNodes[0].data)\n",
    "   format = movie.getElementsByTagName('format')[0]\n",
    "   print (\"Format: %s\" % format.childNodes[0].data)\n",
    "   rating = movie.getElementsByTagName('rating')[0]\n",
    "   print (\"Rating: %s\" % rating.childNodes[0].data)\n",
    "   description = movie.getElementsByTagName('description')[0]\n",
    "   print (\"Description: %s\" % description.childNodes[0].data)"
   ]
  },
  {
   "cell_type": "markdown",
   "metadata": {},
   "source": [
    "### 示例2：XML写\n",
    "\n",
    "```\n",
    "<?xml version=\"1.0\" encoding=\"UTF-8\"?>\n",
    "-<customers>\n",
    "    -<customer ID=\"C003\">\n",
    "        <name>kavin</name>\n",
    "        <phone>32467</phone>\n",
    "        -<comments>\n",
    "        -<![CDATA[A small but healthy company.]]>\n",
    "        </comments>\n",
    "    </customer>\n",
    "</customers>\n",
    "```"
   ]
  },
  {
   "cell_type": "code",
   "execution_count": 25,
   "metadata": {},
   "outputs": [],
   "source": [
    "from xml.dom.minidom import parse\n",
    "import xml.dom.minidom\n",
    "\n",
    "def writeXML():\n",
    "    domTree = xml.dom.minidom.Document()\n",
    "    # 文档根元素\n",
    "    rootNode = domTree.createElement(\"customers\")\n",
    "    domTree.appendChild(rootNode)\n",
    "    \n",
    "    # 新建一个customer节点\n",
    "    customer_node = domTree.createElement(\"customer\")\n",
    "    customer_node.setAttribute(\"ID\", \"C003\")\n",
    "\n",
    "    # 创建name节点,并设置textValue\n",
    "    name_node = domTree.createElement(\"name\")\n",
    "    name_text_value = domTree.createTextNode(\"kavin\")\n",
    "    name_node.appendChild(name_text_value)  # 把文本节点挂到name_node节点\n",
    "    customer_node.appendChild(name_node)\n",
    "\n",
    "    # 创建phone节点,并设置textValue\n",
    "    phone_node = domTree.createElement(\"phone\")\n",
    "    phone_text_value = domTree.createTextNode(\"32467\")\n",
    "    phone_node.appendChild(phone_text_value)  # 把文本节点挂到name_node节点\n",
    "    customer_node.appendChild(phone_node)\n",
    "\n",
    "    # 创建comments节点,这里是CDATA\n",
    "    comments_node = domTree.createElement(\"comments\")\n",
    "    cdata_text_value = domTree.createCDATASection(\"A small but healthy company.\")\n",
    "    comments_node.appendChild(cdata_text_value)\n",
    "    customer_node.appendChild(comments_node)\n",
    "\n",
    "    rootNode.appendChild(customer_node)\n",
    "\n",
    "    with open('resources/customer.xml', 'w') as f:\n",
    "        # 缩进 - 换行 - 编码\n",
    "        domTree.writexml(f, addindent='  ', encoding='utf-8')\n"
   ]
  },
  {
   "cell_type": "code",
   "execution_count": 26,
   "metadata": {},
   "outputs": [],
   "source": [
    "writeXML()"
   ]
  },
  {
   "cell_type": "markdown",
   "metadata": {},
   "source": [
    "### 示例3：XML写\n",
    "新建文件并且将如下字符写入。\n",
    "```\n",
    "<?xml version=\"1.0\" encoding=\"UTF-8\"?>\n",
    "-<root>\n",
    "    <book price=\"199\"/>\n",
    "    <name>计算机程序设计语言 第1版</name>\n",
    "</root>\n",
    "```"
   ]
  },
  {
   "cell_type": "code",
   "execution_count": 14,
   "metadata": {},
   "outputs": [
    {
     "name": "stdout",
     "output_type": "stream",
     "text": [
      "写入xml OK!\n"
     ]
    }
   ],
   "source": [
    "from xml.dom import minidom\n",
    "\n",
    "# 1.创建DOM树对象\n",
    "dom = minidom.Document()\n",
    "# 2.创建根节点。每次都要用DOM对象来创建任何节点。\n",
    "root_node = dom.createElement('root')\n",
    "# 3.用DOM对象添加根节点\n",
    "dom.appendChild(root_node)\n",
    "\n",
    "# 用DOM对象创建元素子节点\n",
    "book_node = dom.createElement('book')\n",
    "# 用父节点对象添加元素子节点\n",
    "root_node.appendChild(book_node)\n",
    "# 设置该节点的属性\n",
    "book_node.setAttribute('price','199')\n",
    "name_node=dom.createElement('name')\n",
    "root_node.appendChild(name_node)\n",
    "# 也用DOM创建文本节点，把文本节点（文字内容）看成子节点\n",
    "name_text=dom.createTextNode('计算机程序设计语言 第1版')\n",
    "# 用添加了文本的节点对象（看成文本节点的父节点）添加文本节点\n",
    "name_node.appendChild(name_text)\n",
    "\n",
    "# 每一个结点对象（包括dom对象本身）都有输出XML内容的方法，如：toxml()--字符串, toprettyxml()--美化树形格式。\n",
    "try:\n",
    "    with open('resources/dom_write.xml','w',encoding='UTF-8') as fh:\n",
    "        # 4.writexml()第一个参数是目标文件对象，第二个参数是根节点的缩进格式，第三个参数是其他子节点的缩进格式，\n",
    "        # 第四个参数制定了换行格式，第五个参数制定了xml内容的编码。\n",
    "        dom.writexml(fh,indent='',addindent='\\t',newl='\\n',encoding='UTF-8')\n",
    "        print('写入xml OK!')\n",
    "except Exception as err:\n",
    "    print('错误信息：{0}'.format(err))"
   ]
  },
  {
   "cell_type": "code",
   "execution_count": null,
   "metadata": {},
   "outputs": [],
   "source": []
  }
 ],
 "metadata": {
  "kernelspec": {
   "display_name": "Python 3",
   "language": "python",
   "name": "python3"
  },
  "language_info": {
   "codemirror_mode": {
    "name": "ipython",
    "version": 3
   },
   "file_extension": ".py",
   "mimetype": "text/x-python",
   "name": "python",
   "nbconvert_exporter": "python",
   "pygments_lexer": "ipython3",
   "version": "3.6.4"
  }
 },
 "nbformat": 4,
 "nbformat_minor": 2
}
