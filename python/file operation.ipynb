{
 "cells": [
  {
   "cell_type": "markdown",
   "metadata": {},
   "source": [
    "## os"
   ]
  },
  {
   "cell_type": "code",
   "execution_count": 1,
   "metadata": {},
   "outputs": [],
   "source": [
    "import os\n",
    "path = r\"D:\\deeplearning\\alex_tutorials\\python\"\n"
   ]
  },
  {
   "cell_type": "code",
   "execution_count": 2,
   "metadata": {},
   "outputs": [
    {
     "data": {
      "text/plain": [
       "'D:\\\\deeplearning\\\\alex_tutorials'"
      ]
     },
     "execution_count": 2,
     "metadata": {},
     "output_type": "execute_result"
    }
   ],
   "source": [
    "os.path.dirname(path)"
   ]
  },
  {
   "cell_type": "code",
   "execution_count": 3,
   "metadata": {},
   "outputs": [
    {
     "data": {
      "text/plain": [
       "'python'"
      ]
     },
     "execution_count": 3,
     "metadata": {},
     "output_type": "execute_result"
    }
   ],
   "source": [
    "os.path.basename(path)"
   ]
  },
  {
   "cell_type": "code",
   "execution_count": 14,
   "metadata": {},
   "outputs": [],
   "source": [
    "path = r\"H:\\deepLearning\\dataset\\visdrone\\Task 1 - Object Detection in Images\\VisDrone2019-DET-train\\annotations\\9999974_00000_d_0000053.txt\""
   ]
  },
  {
   "cell_type": "code",
   "execution_count": 18,
   "metadata": {},
   "outputs": [],
   "source": [
    "import numpy as np"
   ]
  },
  {
   "cell_type": "code",
   "execution_count": 29,
   "metadata": {},
   "outputs": [],
   "source": [
    "def read_annotation(anno_file, debug=False):\n",
    "    #读取文件获取标签\n",
    "    lbls = None\n",
    "    with open(anno_file,'r') as f:\n",
    "        lbls = f.readlines()\n",
    "\n",
    "    #将标签存放为nparray\n",
    "    labels = np.zeros((len(lbls), 8))\n",
    "    for i,lbl in enumerate(lbls):\n",
    "        if debug:\n",
    "            print(f\"before:{lbl}\")\n",
    "            lbl = lbl.rstrip(', \\n')\n",
    "            print(f\"after:{lbl}\")\n",
    "        res = [int(num) for num in lbl.split(',')]\n",
    "        labels[i,:] = np.array(res)\n",
    "        if debug:\n",
    "            print(f\"after:{lbl}\")\n",
    "    return labels"
   ]
  },
  {
   "cell_type": "code",
   "execution_count": 30,
   "metadata": {
    "scrolled": true
   },
   "outputs": [
    {
     "name": "stdout",
     "output_type": "stream",
     "text": [
      "before:440,541,271,152,1,6,0,0,\n",
      "\n",
      "after:440,541,271,152,1,6,0,0\n",
      "after:440,541,271,152,1,6,0,0\n",
      "before:436,772,134,72,1,5,0,0,\n",
      "\n",
      "after:436,772,134,72,1,5,0,0\n",
      "after:436,772,134,72,1,5,0,0\n",
      "before:601,713,60,39,1,10,0,0,\n",
      "\n",
      "after:601,713,60,39,1,10,0,0\n",
      "after:601,713,60,39,1,10,0,0\n",
      "before:486,706,102,59,1,8,0,0,\n",
      "\n",
      "after:486,706,102,59,1,8,0,0\n",
      "after:486,706,102,59,1,8,0,0\n",
      "before:397,978,167,90,1,4,0,0,\n",
      "\n",
      "after:397,978,167,90,1,4,0,0\n",
      "after:397,978,167,90,1,4,0,0\n",
      "before:718,1063,23,14,1,1,1,0,\n",
      "\n",
      "after:718,1063,23,14,1,1,1,0\n",
      "after:718,1063,23,14,1,1,1,0\n",
      "before:696,13,21,33,1,3,0,0,\n",
      "\n",
      "after:696,13,21,33,1,3,0,0\n",
      "after:696,13,21,33,1,3,0,0\n",
      "before:1124,73,98,62,1,5,0,1,\n",
      "\n",
      "after:1124,73,98,62,1,5,0,1\n",
      "after:1124,73,98,62,1,5,0,1\n",
      "before:1089,35,84,46,1,7,0,1,\n",
      "\n",
      "after:1089,35,84,46,1,7,0,1\n",
      "after:1089,35,84,46,1,7,0,1\n",
      "before:1351,5,48,26,1,10,0,1,\n",
      "\n",
      "after:1351,5,48,26,1,10,0,1\n",
      "after:1351,5,48,26,1,10,0,1\n",
      "before:1381,28,60,72,1,8,0,0,\n",
      "\n",
      "after:1381,28,60,72,1,8,0,0\n",
      "after:1381,28,60,72,1,8,0,0\n",
      "before:1370,113,44,37,1,10,0,0,\n",
      "\n",
      "after:1370,113,44,37,1,10,0,0\n",
      "after:1370,113,44,37,1,10,0,0\n",
      "before:1272,143,91,55,1,7,0,0,\n",
      "\n",
      "after:1272,143,91,55,1,7,0,0\n",
      "after:1272,143,91,55,1,7,0,0\n",
      "before:1323,128,46,31,1,10,0,1,\n",
      "\n",
      "after:1323,128,46,31,1,10,0,1\n",
      "after:1323,128,46,31,1,10,0,1\n",
      "before:1300,135,33,24,1,3,0,1,\n",
      "\n",
      "after:1300,135,33,24,1,3,0,1\n",
      "after:1300,135,33,24,1,3,0,1\n",
      "before:1260,246,83,39,1,7,0,0,\n",
      "\n",
      "after:1260,246,83,39,1,7,0,0\n",
      "after:1260,246,83,39,1,7,0,0\n",
      "before:1266,211,90,40,1,7,0,1,\n",
      "\n",
      "after:1266,211,90,40,1,7,0,1\n",
      "after:1266,211,90,40,1,7,0,1\n",
      "before:1225,100,13,36,1,3,0,0,\n",
      "\n",
      "after:1225,100,13,36,1,3,0,0\n",
      "after:1225,100,13,36,1,3,0,0\n",
      "before:1070,159,200,104,1,6,0,0,\n",
      "\n",
      "after:1070,159,200,104,1,6,0,0\n",
      "after:1070,159,200,104,1,6,0,0\n",
      "before:1072,283,139,64,1,5,0,0,\n",
      "\n",
      "after:1072,283,139,64,1,5,0,0\n",
      "after:1072,283,139,64,1,5,0,0\n",
      "before:1052,371,138,79,1,5,0,0,\n",
      "\n",
      "after:1052,371,138,79,1,5,0,0\n",
      "after:1052,371,138,79,1,5,0,0\n",
      "before:1046,441,141,93,1,5,0,0,\n",
      "\n",
      "after:1046,441,141,93,1,5,0,0\n",
      "after:1046,441,141,93,1,5,0,0\n",
      "before:1294,316,84,51,1,7,0,0,\n",
      "\n",
      "after:1294,316,84,51,1,7,0,0\n",
      "after:1294,316,84,51,1,7,0,0\n",
      "before:1291,367,61,39,1,8,0,0,\n",
      "\n",
      "after:1291,367,61,39,1,8,0,0\n",
      "after:1291,367,61,39,1,8,0,0\n",
      "before:1026,553,145,76,1,4,0,0,\n",
      "\n",
      "after:1026,553,145,76,1,4,0,0\n",
      "after:1026,553,145,76,1,4,0,0\n",
      "before:1043,620,119,78,1,5,0,0,\n",
      "\n",
      "after:1043,620,119,78,1,5,0,0\n",
      "after:1043,620,119,78,1,5,0,0\n",
      "before:1216,608,94,56,1,7,0,0,\n",
      "\n",
      "after:1216,608,94,56,1,7,0,0\n",
      "after:1216,608,94,56,1,7,0,0\n",
      "before:1240,682,52,31,1,10,0,0,\n",
      "\n",
      "after:1240,682,52,31,1,10,0,0\n",
      "after:1240,682,52,31,1,10,0,0\n",
      "before:1232,745,92,45,1,7,0,1,\n",
      "\n",
      "after:1232,745,92,45,1,7,0,1\n",
      "after:1232,745,92,45,1,7,0,1\n",
      "before:1414,493,22,38,1,1,0,0,\n",
      "\n",
      "after:1414,493,22,38,1,1,0,0\n",
      "after:1414,493,22,38,1,1,0,0\n",
      "before:1438,482,76,45,1,7,0,0,\n",
      "\n",
      "after:1438,482,76,45,1,7,0,0\n",
      "after:1438,482,76,45,1,7,0,0\n",
      "before:1446,673,88,60,1,7,0,0,\n",
      "\n",
      "after:1446,673,88,60,1,7,0,0\n",
      "after:1446,673,88,60,1,7,0,0\n",
      "before:1460,242,62,146,1,6,0,0,\n",
      "\n",
      "after:1460,242,62,146,1,6,0,0\n",
      "after:1460,242,62,146,1,6,0,0\n",
      "before:1098,0,175,38,1,6,1,0,\n",
      "\n",
      "after:1098,0,175,38,1,6,1,0\n",
      "after:1098,0,175,38,1,6,1,0\n"
     ]
    },
    {
     "data": {
      "text/plain": [
       "array([[4.400e+02, 5.410e+02, 2.710e+02, 1.520e+02, 1.000e+00, 6.000e+00,\n",
       "        0.000e+00, 0.000e+00],\n",
       "       [4.360e+02, 7.720e+02, 1.340e+02, 7.200e+01, 1.000e+00, 5.000e+00,\n",
       "        0.000e+00, 0.000e+00],\n",
       "       [6.010e+02, 7.130e+02, 6.000e+01, 3.900e+01, 1.000e+00, 1.000e+01,\n",
       "        0.000e+00, 0.000e+00],\n",
       "       [4.860e+02, 7.060e+02, 1.020e+02, 5.900e+01, 1.000e+00, 8.000e+00,\n",
       "        0.000e+00, 0.000e+00],\n",
       "       [3.970e+02, 9.780e+02, 1.670e+02, 9.000e+01, 1.000e+00, 4.000e+00,\n",
       "        0.000e+00, 0.000e+00],\n",
       "       [7.180e+02, 1.063e+03, 2.300e+01, 1.400e+01, 1.000e+00, 1.000e+00,\n",
       "        1.000e+00, 0.000e+00],\n",
       "       [6.960e+02, 1.300e+01, 2.100e+01, 3.300e+01, 1.000e+00, 3.000e+00,\n",
       "        0.000e+00, 0.000e+00],\n",
       "       [1.124e+03, 7.300e+01, 9.800e+01, 6.200e+01, 1.000e+00, 5.000e+00,\n",
       "        0.000e+00, 1.000e+00],\n",
       "       [1.089e+03, 3.500e+01, 8.400e+01, 4.600e+01, 1.000e+00, 7.000e+00,\n",
       "        0.000e+00, 1.000e+00],\n",
       "       [1.351e+03, 5.000e+00, 4.800e+01, 2.600e+01, 1.000e+00, 1.000e+01,\n",
       "        0.000e+00, 1.000e+00],\n",
       "       [1.381e+03, 2.800e+01, 6.000e+01, 7.200e+01, 1.000e+00, 8.000e+00,\n",
       "        0.000e+00, 0.000e+00],\n",
       "       [1.370e+03, 1.130e+02, 4.400e+01, 3.700e+01, 1.000e+00, 1.000e+01,\n",
       "        0.000e+00, 0.000e+00],\n",
       "       [1.272e+03, 1.430e+02, 9.100e+01, 5.500e+01, 1.000e+00, 7.000e+00,\n",
       "        0.000e+00, 0.000e+00],\n",
       "       [1.323e+03, 1.280e+02, 4.600e+01, 3.100e+01, 1.000e+00, 1.000e+01,\n",
       "        0.000e+00, 1.000e+00],\n",
       "       [1.300e+03, 1.350e+02, 3.300e+01, 2.400e+01, 1.000e+00, 3.000e+00,\n",
       "        0.000e+00, 1.000e+00],\n",
       "       [1.260e+03, 2.460e+02, 8.300e+01, 3.900e+01, 1.000e+00, 7.000e+00,\n",
       "        0.000e+00, 0.000e+00],\n",
       "       [1.266e+03, 2.110e+02, 9.000e+01, 4.000e+01, 1.000e+00, 7.000e+00,\n",
       "        0.000e+00, 1.000e+00],\n",
       "       [1.225e+03, 1.000e+02, 1.300e+01, 3.600e+01, 1.000e+00, 3.000e+00,\n",
       "        0.000e+00, 0.000e+00],\n",
       "       [1.070e+03, 1.590e+02, 2.000e+02, 1.040e+02, 1.000e+00, 6.000e+00,\n",
       "        0.000e+00, 0.000e+00],\n",
       "       [1.072e+03, 2.830e+02, 1.390e+02, 6.400e+01, 1.000e+00, 5.000e+00,\n",
       "        0.000e+00, 0.000e+00],\n",
       "       [1.052e+03, 3.710e+02, 1.380e+02, 7.900e+01, 1.000e+00, 5.000e+00,\n",
       "        0.000e+00, 0.000e+00],\n",
       "       [1.046e+03, 4.410e+02, 1.410e+02, 9.300e+01, 1.000e+00, 5.000e+00,\n",
       "        0.000e+00, 0.000e+00],\n",
       "       [1.294e+03, 3.160e+02, 8.400e+01, 5.100e+01, 1.000e+00, 7.000e+00,\n",
       "        0.000e+00, 0.000e+00],\n",
       "       [1.291e+03, 3.670e+02, 6.100e+01, 3.900e+01, 1.000e+00, 8.000e+00,\n",
       "        0.000e+00, 0.000e+00],\n",
       "       [1.026e+03, 5.530e+02, 1.450e+02, 7.600e+01, 1.000e+00, 4.000e+00,\n",
       "        0.000e+00, 0.000e+00],\n",
       "       [1.043e+03, 6.200e+02, 1.190e+02, 7.800e+01, 1.000e+00, 5.000e+00,\n",
       "        0.000e+00, 0.000e+00],\n",
       "       [1.216e+03, 6.080e+02, 9.400e+01, 5.600e+01, 1.000e+00, 7.000e+00,\n",
       "        0.000e+00, 0.000e+00],\n",
       "       [1.240e+03, 6.820e+02, 5.200e+01, 3.100e+01, 1.000e+00, 1.000e+01,\n",
       "        0.000e+00, 0.000e+00],\n",
       "       [1.232e+03, 7.450e+02, 9.200e+01, 4.500e+01, 1.000e+00, 7.000e+00,\n",
       "        0.000e+00, 1.000e+00],\n",
       "       [1.414e+03, 4.930e+02, 2.200e+01, 3.800e+01, 1.000e+00, 1.000e+00,\n",
       "        0.000e+00, 0.000e+00],\n",
       "       [1.438e+03, 4.820e+02, 7.600e+01, 4.500e+01, 1.000e+00, 7.000e+00,\n",
       "        0.000e+00, 0.000e+00],\n",
       "       [1.446e+03, 6.730e+02, 8.800e+01, 6.000e+01, 1.000e+00, 7.000e+00,\n",
       "        0.000e+00, 0.000e+00],\n",
       "       [1.460e+03, 2.420e+02, 6.200e+01, 1.460e+02, 1.000e+00, 6.000e+00,\n",
       "        0.000e+00, 0.000e+00],\n",
       "       [1.098e+03, 0.000e+00, 1.750e+02, 3.800e+01, 1.000e+00, 6.000e+00,\n",
       "        1.000e+00, 0.000e+00]])"
      ]
     },
     "execution_count": 30,
     "metadata": {},
     "output_type": "execute_result"
    }
   ],
   "source": [
    "read_annotation(path,True)"
   ]
  },
  {
   "cell_type": "code",
   "execution_count": 23,
   "metadata": {},
   "outputs": [
    {
     "data": {
      "text/plain": [
       "'before:440,541,271,152,1,6,0,0'"
      ]
     },
     "execution_count": 23,
     "metadata": {},
     "output_type": "execute_result"
    }
   ],
   "source": [
    "a = \"before:440,541,271,152,1,6,0,0,\"\n",
    "a.rstrip(',')"
   ]
  },
  {
   "cell_type": "markdown",
   "metadata": {},
   "source": [
    "## XML\n",
    "XML 指可扩展标记语言（eXtensible Markup Language），标准通用标记语言的子集，是一种用于标记电子文件使其具有结构性的标记语言。<br>\n",
    "XML 被设计用来传输和存储数据。<br>\n",
    "XML 是一套定义语义标记的规则，这些标记将文档分成许多部件并对这些部件加以标识。"
   ]
  },
  {
   "cell_type": "markdown",
   "metadata": {},
   "source": [
    "### XML DOM基础概念\n",
    "DOM基于树的概念存储，基于树读取、修改，是有一个个节点构成，每个节点必须挂载到上级节点(或者称为父节点)，整个DOM有一个根节点。\n",
    "- 获取树\n",
    "\n",
    "domTree = parse(\"./customer.xml\")\n",
    "\n",
    "- 创建树\n",
    "\n",
    "domTree = xml.dom.minidom.Document()\n",
    "\n",
    "- 节点创建\n",
    "\n",
    "son_node = domTree.createElement(\"customer\")\n",
    "\n",
    "- 节点挂载\n",
    "\n",
    "father_node.appendChild(son_node)\n",
    "\n",
    "- 可以给节点添加属性（attribute）\n",
    "\n",
    "使用函数：setAttribute()\n",
    "```\n",
    "-<student name=\"alex\">\n",
    "\n",
    " </student>\n",
    "```\n",
    "- 可以给节点添加文本描述\n",
    "\n",
    "使用函数createTextNode()\n",
    "```\n",
    "<book>\"programming python\"</book>\n",
    "```"
   ]
  },
  {
   "cell_type": "markdown",
   "metadata": {},
   "source": []
  },
  {
   "cell_type": "markdown",
   "metadata": {},
   "source": [
    "### 示例1：XML读"
   ]
  },
  {
   "cell_type": "code",
   "execution_count": 1,
   "metadata": {},
   "outputs": [
    {
     "name": "stdout",
     "output_type": "stream",
     "text": [
      "Root element : New Arrivals\n",
      "*****Movie*****\n",
      "Title: Enemy Behind\n",
      "Type: War, Thriller\n",
      "Format: DVD\n",
      "Rating: PG\n",
      "Description: Talk about a US-Japan war\n",
      "*****Movie*****\n",
      "Title: Transformers\n",
      "Type: Anime, Science Fiction\n",
      "Format: DVD\n",
      "Rating: R\n",
      "Description: A schientific fiction\n",
      "*****Movie*****\n",
      "Title: Trigun\n",
      "Type: Anime, Action\n",
      "Format: DVD\n",
      "Rating: PG\n",
      "Description: Vash the Stampede!\n",
      "*****Movie*****\n",
      "Title: Ishtar\n",
      "Type: Comedy\n",
      "Format: VHS\n",
      "Rating: PG\n",
      "Description: Viewable boredom\n"
     ]
    }
   ],
   "source": [
    "from xml.dom.minidom import parse\n",
    "import xml.dom.minidom\n",
    "\n",
    "# 使用minidom解析器打开 XML 文档\n",
    "DOMTree = xml.dom.minidom.parse(\"resources/movies.xml\")\n",
    "# 文档根元素\n",
    "collection = DOMTree.documentElement\n",
    "if collection.hasAttribute(\"shelf\"):\n",
    "   print (\"Root element : %s\" % collection.getAttribute(\"shelf\"))\n",
    "\n",
    "# 在集合中获取所有电影\n",
    "movies = collection.getElementsByTagName(\"movie\")\n",
    "\n",
    "# 打印每部电影的详细信息\n",
    "for movie in movies:\n",
    "   print (\"*****Movie*****\")\n",
    "   if movie.hasAttribute(\"title\"):\n",
    "      print (\"Title: %s\" % movie.getAttribute(\"title\"))\n",
    "\n",
    "   type = movie.getElementsByTagName('type')[0]\n",
    "   print (\"Type: %s\" % type.childNodes[0].data)\n",
    "   format = movie.getElementsByTagName('format')[0]\n",
    "   print (\"Format: %s\" % format.childNodes[0].data)\n",
    "   rating = movie.getElementsByTagName('rating')[0]\n",
    "   print (\"Rating: %s\" % rating.childNodes[0].data)\n",
    "   description = movie.getElementsByTagName('description')[0]\n",
    "   print (\"Description: %s\" % description.childNodes[0].data)"
   ]
  },
  {
   "cell_type": "markdown",
   "metadata": {},
   "source": [
    "### 示例2：XML写\n",
    "\n",
    "```\n",
    "<?xml version=\"1.0\" encoding=\"UTF-8\"?>\n",
    "-<customers>\n",
    "    -<customer ID=\"C003\">\n",
    "        <name>kavin</name>\n",
    "        <phone>32467</phone>\n",
    "        -<comments>\n",
    "        -<![CDATA[A small but healthy company.]]>\n",
    "        </comments>\n",
    "    </customer>\n",
    "</customers>\n",
    "```"
   ]
  },
  {
   "cell_type": "code",
   "execution_count": 25,
   "metadata": {},
   "outputs": [],
   "source": [
    "from xml.dom.minidom import parse\n",
    "import xml.dom.minidom\n",
    "\n",
    "def writeXML():\n",
    "    domTree = xml.dom.minidom.Document()\n",
    "    # 文档根元素\n",
    "    rootNode = domTree.createElement(\"customers\")\n",
    "    domTree.appendChild(rootNode)\n",
    "    \n",
    "    # 新建一个customer节点\n",
    "    customer_node = domTree.createElement(\"customer\")\n",
    "    customer_node.setAttribute(\"ID\", \"C003\")\n",
    "\n",
    "    # 创建name节点,并设置textValue\n",
    "    name_node = domTree.createElement(\"name\")\n",
    "    name_text_value = domTree.createTextNode(\"kavin\")\n",
    "    name_node.appendChild(name_text_value)  # 把文本节点挂到name_node节点\n",
    "    customer_node.appendChild(name_node)\n",
    "\n",
    "    # 创建phone节点,并设置textValue\n",
    "    phone_node = domTree.createElement(\"phone\")\n",
    "    phone_text_value = domTree.createTextNode(\"32467\")\n",
    "    phone_node.appendChild(phone_text_value)  # 把文本节点挂到name_node节点\n",
    "    customer_node.appendChild(phone_node)\n",
    "\n",
    "    # 创建comments节点,这里是CDATA\n",
    "    comments_node = domTree.createElement(\"comments\")\n",
    "    cdata_text_value = domTree.createCDATASection(\"A small but healthy company.\")\n",
    "    comments_node.appendChild(cdata_text_value)\n",
    "    customer_node.appendChild(comments_node)\n",
    "\n",
    "    rootNode.appendChild(customer_node)\n",
    "\n",
    "    with open('resources/customer.xml', 'w') as f:\n",
    "        # 缩进 - 换行 - 编码\n",
    "        domTree.writexml(f, addindent='  ', encoding='utf-8')\n"
   ]
  },
  {
   "cell_type": "code",
   "execution_count": 26,
   "metadata": {},
   "outputs": [],
   "source": [
    "writeXML()"
   ]
  },
  {
   "cell_type": "markdown",
   "metadata": {},
   "source": [
    "### 示例3：XML写\n",
    "新建文件并且将如下字符写入。\n",
    "```\n",
    "<?xml version=\"1.0\" encoding=\"UTF-8\"?>\n",
    "-<root>\n",
    "    <book price=\"199\"/>\n",
    "    <name>计算机程序设计语言 第1版</name>\n",
    "</root>\n",
    "```"
   ]
  },
  {
   "cell_type": "code",
   "execution_count": 14,
   "metadata": {},
   "outputs": [
    {
     "name": "stdout",
     "output_type": "stream",
     "text": [
      "写入xml OK!\n"
     ]
    }
   ],
   "source": [
    "from xml.dom import minidom\n",
    "\n",
    "# 1.创建DOM树对象\n",
    "dom = minidom.Document()\n",
    "# 2.创建根节点。每次都要用DOM对象来创建任何节点。\n",
    "root_node = dom.createElement('root')\n",
    "# 3.用DOM对象添加根节点\n",
    "dom.appendChild(root_node)\n",
    "\n",
    "# 用DOM对象创建元素子节点\n",
    "book_node = dom.createElement('book')\n",
    "# 用父节点对象添加元素子节点\n",
    "root_node.appendChild(book_node)\n",
    "# 设置该节点的属性\n",
    "book_node.setAttribute('price','199')\n",
    "name_node=dom.createElement('name')\n",
    "root_node.appendChild(name_node)\n",
    "# 也用DOM创建文本节点，把文本节点（文字内容）看成子节点\n",
    "name_text=dom.createTextNode('计算机程序设计语言 第1版')\n",
    "# 用添加了文本的节点对象（看成文本节点的父节点）添加文本节点\n",
    "name_node.appendChild(name_text)\n",
    "\n",
    "# 每一个结点对象（包括dom对象本身）都有输出XML内容的方法，如：toxml()--字符串, toprettyxml()--美化树形格式。\n",
    "try:\n",
    "    with open('resources/dom_write.xml','w',encoding='UTF-8') as fh:\n",
    "        # 4.writexml()第一个参数是目标文件对象，第二个参数是根节点的缩进格式，第三个参数是其他子节点的缩进格式，\n",
    "        # 第四个参数制定了换行格式，第五个参数制定了xml内容的编码。\n",
    "        dom.writexml(fh,indent='',addindent='\\t',newl='\\n',encoding='UTF-8')\n",
    "        print('写入xml OK!')\n",
    "except Exception as err:\n",
    "    print('错误信息：{0}'.format(err))"
   ]
  },
  {
   "cell_type": "code",
   "execution_count": null,
   "metadata": {},
   "outputs": [],
   "source": []
  }
 ],
 "metadata": {
  "kernelspec": {
   "display_name": "Python 3",
   "language": "python",
   "name": "python3"
  },
  "language_info": {
   "codemirror_mode": {
    "name": "ipython",
    "version": 3
   },
   "file_extension": ".py",
   "mimetype": "text/x-python",
   "name": "python",
   "nbconvert_exporter": "python",
   "pygments_lexer": "ipython3",
   "version": "3.6.4"
  }
 },
 "nbformat": 4,
 "nbformat_minor": 2
}
