{
 "cells": [
  {
   "cell_type": "code",
   "execution_count": null,
   "metadata": {},
   "outputs": [],
   "source": []
  },
  {
   "cell_type": "markdown",
   "metadata": {},
   "source": [
    "## 题目：有1、2、3、4个数字，能组成多少个互不相同且无重复数字的三位数？都是多少？\n",
    "\n",
    "程序分析：可填在百位、十位、个位的数字都是1、2、3、4。组成所有的排列后再去掉不满足条件的排列。"
   ]
  },
  {
   "cell_type": "code",
   "execution_count": null,
   "metadata": {},
   "outputs": [],
   "source": [
    "n = 0\n",
    "num = (1,2,3,4)\n",
    "for g in num:\n",
    "    for s in num:\n",
    "        for b in num:\n",
    "            if g!=s and s!=b and g!=b:\n",
    "                print(b*100+s*10+g)\n",
    "                n+=1\n",
    "print(\"results numbers: \",n)"
   ]
  },
  {
   "cell_type": "markdown",
   "metadata": {},
   "source": [
    "## 题目：一个整数，它加上100后是一个完全平方数，再加上268又是一个完全平方数，请问该数是多少？"
   ]
  },
  {
   "cell_type": "code",
   "execution_count": null,
   "metadata": {},
   "outputs": [],
   "source": [
    "import math\n",
    "list_a = range(100000)\n",
    "list_a_res = list(filter(lambda x:math.sqrt(x+100)%1==0,list_a))\n",
    "list_a_res = list(filter(lambda x:math.sqrt(x+268)%1==0,list_a_res))\n",
    "print(list_a_res)"
   ]
  },
  {
   "cell_type": "code",
   "execution_count": null,
   "metadata": {},
   "outputs": [],
   "source": [
    "i = 1\n",
    "while i < 100000:\n",
    "    a = int(math.sqrt(i + 100))\n",
    "    b = int(math.sqrt(i + 268))\n",
    "    if a **2 == (i + 100) and b **2 == (i + 268):\n",
    "        print(i)\n",
    "    i += 1"
   ]
  },
  {
   "cell_type": "code",
   "execution_count": null,
   "metadata": {},
   "outputs": [],
   "source": [
    "days = {1:0,2:31,3:59,4:90,5:120,6:151,7:181,8:212,9:243,10:273,11:304,12:334}\n",
    "\n",
    "year,month,day = eval(input('year: ')),eval(input('month: ')),eval(input('day: '))\n",
    "is_run = False\n",
    "if year%400==0:\n",
    "    is_run = True\n",
    "elif year%4==0 and year%100!=0:\n",
    "    is_run = True\n",
    "else:\n",
    "    is_run = False\n",
    "if is_run:\n",
    "    print(days[month] + day+1)\n",
    "else:\n",
    "    print(days[month]+day)"
   ]
  },
  {
   "cell_type": "markdown",
   "metadata": {},
   "source": [
    "## 题目：输出9*9口诀。\n",
    "程序分析：分行与列考虑，共9行9列，i控制行，j控制列。"
   ]
  },
  {
   "cell_type": "code",
   "execution_count": null,
   "metadata": {},
   "outputs": [],
   "source": [
    "for i in range(10):\n",
    "    print(' '.join(['%d*%d=%d'%(i,j,j*i) for j in range(1,i+1)]))\n"
   ]
  },
  {
   "cell_type": "markdown",
   "metadata": {},
   "source": [
    "## 题目：兔子\n",
    "有一对兔子，从出生后第3个月起每个月都生一对兔子，小兔子长到第三个月后每个月又生一对兔子，假如兔子都不死，问每个月的兔子总数为多少？\n",
    "程序分析： 兔子的规律为数列1,1,2,3,5,8,13,21....\n",
    "提示：斐波那契基数！"
   ]
  },
  {
   "cell_type": "code",
   "execution_count": null,
   "metadata": {},
   "outputs": [],
   "source": [
    "def fun(month):\n",
    "    num = 1                # 初始1对\n",
    "    if month <= 2:\n",
    "        return 1\n",
    "    else:\n",
    "        a = month-2        # 初始兔子繁殖的子兔子\n",
    "        for i in range(1,a+1):\n",
    "            num += fun(i)  # 每代子兔子作为初始兔子所繁殖的子兔子个数\n",
    "        return num          \n",
    "month_cnt = 7"
   ]
  },
  {
   "cell_type": "markdown",
   "metadata": {},
   "source": [
    "## 题目：判断101-200之间有多少个素数，并输出所有素数。"
   ]
  },
  {
   "cell_type": "code",
   "execution_count": null,
   "metadata": {},
   "outputs": [],
   "source": [
    "i=103\n",
    "j=2\n",
    "print(i/j,i//j)"
   ]
  },
  {
   "cell_type": "code",
   "execution_count": null,
   "metadata": {},
   "outputs": [],
   "source": [
    "cnt = 0\n",
    "for i in range(101,201):\n",
    "    flag = False\n",
    "    for j in range(2,i):\n",
    "        if i%j == 0:\n",
    "            flag = True\n",
    "    if not flag:\n",
    "        print(i)\n",
    "        cnt += 1\n",
    "print(\"numbers:\",cnt)"
   ]
  },
  {
   "cell_type": "code",
   "execution_count": null,
   "metadata": {},
   "outputs": [],
   "source": [
    "from math import sqrt\n",
    "\n",
    "if __name__ == \"__main__\":\n",
    "    count = 0\n",
    "    flag = 1\n",
    "    for a in range(101,201):\n",
    "        s = int(sqrt(a))\n",
    "        for i in range(2,s+1):\n",
    "            if a % i == 0:\n",
    "                flag = 0\n",
    "                break\n",
    "        if flag == 1:\n",
    "            count += 1\n",
    "            print(a)\n",
    "        else:\n",
    "            flag = 1\n",
    "    print(\"the total num is %d\" %count)"
   ]
  },
  {
   "cell_type": "markdown",
   "metadata": {},
   "source": [
    "## 题目：将一个正整数分解质因数。\n",
    "例如：输入90,打印出90=2\\*3\\*3\\*5。"
   ]
  },
  {
   "cell_type": "code",
   "execution_count": null,
   "metadata": {},
   "outputs": [],
   "source": [
    "num = 6\n",
    "while True:\n",
    "    flag = False\n",
    "    yu = None\n",
    "    for i in range(2,num):\n",
    "        if num%i == 0:\n",
    "            print(i)\n",
    "            yu = i\n",
    "            flag = True\n",
    "            break\n",
    "    if flag:\n",
    "        num = int(num/yu)\n",
    "    else:\n",
    "        print(num)\n",
    "        break"
   ]
  },
  {
   "cell_type": "markdown",
   "metadata": {},
   "source": [
    "## 题目：输入两个正整数m和n，求其最大公约数和最小公倍数。"
   ]
  },
  {
   "cell_type": "code",
   "execution_count": null,
   "metadata": {},
   "outputs": [],
   "source": [
    "s = [16,10]\n",
    "s.sort()\n",
    "a = s[0]\n",
    "b = s[1]\n",
    "while b!=0:\n",
    "    t = a%b\n",
    "    a = b\n",
    "    b = t\n",
    "print('common divisor: ',a)\n",
    "print('common multiple: ',int(s[0]*s[1]/a))"
   ]
  },
  {
   "cell_type": "markdown",
   "metadata": {},
   "source": [
    "## 题目：给定一个数字n，判断[1,n)之内每个数字包含1的个数共多少"
   ]
  },
  {
   "cell_type": "code",
   "execution_count": null,
   "metadata": {},
   "outputs": [],
   "source": [
    "def solution2():\n",
    "    def numof1(N):\n",
    "        for n in range(1,N+1):\n",
    "            list_n = list(str(n))\n",
    "            if '1' in list_n:\n",
    "                yield list_n.count('1')\n",
    "    n = eval(input())\n",
    "    sum = 0\n",
    "    for res in numof1(n):\n",
    "        sum += res\n",
    "    print(sum)"
   ]
  },
  {
   "cell_type": "code",
   "execution_count": null,
   "metadata": {},
   "outputs": [],
   "source": [
    "def solution1():\n",
    "    n = eval(input())\n",
    "    sum = 0\n",
    "    for i in range(1,n+1):\n",
    "        str_n = str(i)\n",
    "        list_n = list(str_n)\n",
    "        num = list_n.count('1')\n",
    "        sum += num\n",
    "    print(sum)"
   ]
  },
  {
   "cell_type": "markdown",
   "metadata": {},
   "source": [
    "## 题目：输入一串字符，请编写一个字符串压缩程序，将字符串中连续出现的重复字母进行压缩，并输出压缩后的字符串。\n",
    "例如：\n",
    "aac 压缩为 1ac\n",
    "xxxxyyyyyyzbbb 压缩为 3x5yz2b"
   ]
  },
  {
   "cell_type": "code",
   "execution_count": null,
   "metadata": {},
   "outputs": [],
   "source": [
    "source = input()+' '\n",
    "result = ''\n",
    "cur_c = source[0]\n",
    "cur_n = 0\n",
    "for c in source[1:]:\n",
    "    if c==cur_c:\n",
    "        cur_n += 1\n",
    "    else:\n",
    "        if cur_n > 0:\n",
    "            result += str(cur_n) + cur_c\n",
    "        else:\n",
    "            result += cur_c\n",
    "        cur_n = 0\n",
    "        cur_c = c\n",
    "print(result)"
   ]
  },
  {
   "cell_type": "code",
   "execution_count": null,
   "metadata": {},
   "outputs": [],
   "source": []
  },
  {
   "cell_type": "code",
   "execution_count": null,
   "metadata": {},
   "outputs": [],
   "source": []
  }
 ],
 "metadata": {
  "kernelspec": {
   "display_name": "Python 3",
   "language": "python",
   "name": "python3"
  },
  "language_info": {
   "codemirror_mode": {
    "name": "ipython",
    "version": 3
   },
   "file_extension": ".py",
   "mimetype": "text/x-python",
   "name": "python",
   "nbconvert_exporter": "python",
   "pygments_lexer": "ipython3",
   "version": "3.6.10"
  },
  "toc": {
   "base_numbering": 1,
   "nav_menu": {},
   "number_sections": true,
   "sideBar": true,
   "skip_h1_title": false,
   "title_cell": "Table of Contents",
   "title_sidebar": "Contents",
   "toc_cell": false,
   "toc_position": {},
   "toc_section_display": true,
   "toc_window_display": false
  }
 },
 "nbformat": 4,
 "nbformat_minor": 2
}
