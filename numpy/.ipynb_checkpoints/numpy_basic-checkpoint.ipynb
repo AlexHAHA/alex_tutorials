{
 "cells": [
  {
   "cell_type": "markdown",
   "metadata": {},
   "source": [
    "# Numpy基础知识学习\n",
    "  NumPy is the fundamental package for scientific computing in Python. It is a Python library that provides a multidimensional array object, various derived objects (such as masked arrays and matrices), and an assortment of routines for fast operations on arrays, including mathematical, logical, shape manipulation, sorting, selecting, I/O, discrete Fourier transforms, basic linear algebra, basic statistical operations, random simulation and much more.\n",
    "\n",
    "At the core of the NumPy package, is the `ndarray object`. This encapsulates n-dimensional arrays of homogeneous data types.\n",
    "\n",
    "Differences with python:\n",
    "1. NumPy arrays have a fixed size at creation, unlike Python lists (which can grow dynamically). Changing the size of an ndarray will create a new array and delete the original.\n",
    "2. The elements in a NumPy array are all required to be of the same data type, and thus will be the same size in memory.\n",
    "3. NumPy arrays facilitate advanced mathematical and other types of operations on large numbers of data. Typically, such operations are executed more efficiently and with less code than is possible using Python’s built-in sequences.\n",
    "4. A growing plethora of scientific and mathematical Python-based packages are using NumPy arrays; though these typically support Python-sequence input, they convert such input to NumPy arrays prior to processing, and they often output NumPy arrays. \n",
    "\n",
    "\n",
    "- 官方网站：https://docs.scipy.org/doc/numpy/\n",
    "\n"
   ]
  },
  {
   "cell_type": "markdown",
   "metadata": {},
   "source": [
    "## Section 1: be familar with numpy\n",
    "1. 初始化一个ndarray\n",
    "2. 矩阵相乘\n",
    "3. ndarray存储的类型<br>\n",
    "bool_,int_,intc,intp,int8,int16,int32,int64,uint8,uint16,uint32,uint64,float_,float16,float32,float64,complex_,complex64,complex128,"
   ]
  },
  {
   "cell_type": "code",
   "execution_count": 2,
   "metadata": {},
   "outputs": [
    {
     "name": "stdout",
     "output_type": "stream",
     "text": [
      "[85.8 88.2 82.6] float64\n"
     ]
    }
   ],
   "source": [
    "import numpy as np\n",
    "score = np.array([[90,100,80],\n",
    "                  [70,87,92],\n",
    "                  [80,72,60],\n",
    "                  [89,85,86],\n",
    "                  [100,97,95]],dtype=np.int64)\n",
    "ones = [1,1,1,1,1]\n",
    "weight = np.array(ones)/len(ones)\n",
    "res = np.dot(weight,score)\n",
    "print(res,res.dtype)"
   ]
  },
  {
   "cell_type": "markdown",
   "metadata": {},
   "source": [
    "### Array creation\n",
    "1. Conversion from other Python structures (e.g., lists, tuples)\n",
    "2. Intrinsic numpy array creation objects (e.g., arange, ones, zeros,linspace etc.)\n",
    "3. Use of special library functions (e.g., random)\n",
    "4. Reading arrays from disk, either from standard or custom formats"
   ]
  },
  {
   "cell_type": "code",
   "execution_count": 3,
   "metadata": {},
   "outputs": [
    {
     "name": "stdout",
     "output_type": "stream",
     "text": [
      "-----       conversion      -------\n",
      "[2 3 1 0]\n",
      "[0 1 2 3 4 5 6 7 8 9]\n",
      "----- intrinsic numpy array -------\n",
      "[[0. 0. 0.]\n",
      " [0. 0. 0.]]\n",
      "[1. 1. 1. 1. 1. 1. 1. 1. 1. 1.]\n",
      "[[1. 0. 0. 0. 0.]\n",
      " [0. 1. 0. 0. 0.]\n",
      " [0. 0. 1. 0. 0.]\n",
      " [0. 0. 0. 1. 0.]\n",
      " [0. 0. 0. 0. 1.]]\n",
      "----- special library function -------\n",
      "//randint(1,30)\n",
      "20\n",
      "//rand(4,3)\n",
      "[[0.83413407 0.58561419 0.46077176]\n",
      " [0.26359379 0.8424286  0.71321036]\n",
      " [0.96891165 0.08461212 0.7957113 ]\n",
      " [0.12360638 0.64701291 0.49151608]]\n",
      "//choice(10,3)\n",
      "[9 2 7]\n"
     ]
    }
   ],
   "source": [
    "import numpy as np\n",
    "print('-----       conversion      -------')\n",
    "print(np.array([2,3,1,0]))\n",
    "print(np.array(range(10)))\n",
    "print('----- intrinsic numpy array -------')\n",
    "print(np.zeros((2, 3)))\n",
    "print(np.ones(10))\n",
    "print(np.diag(np.ones(5)))\n",
    "print('----- special library function -------')\n",
    "print('//randint(1,30)')\n",
    "print(np.random.randint(1,30))\n",
    "print('//rand(4,3)')\n",
    "print(np.random.rand(4,3))           # 生成范围在[0,1]的随机浮点型数字\n",
    "print('//choice(10,3)')\n",
    "print(np.random.choice(10,3))\n"
   ]
  },
  {
   "cell_type": "markdown",
   "metadata": {},
   "source": [
    "### Indexing"
   ]
  },
  {
   "cell_type": "code",
   "execution_count": 5,
   "metadata": {},
   "outputs": [
    {
     "name": "stdout",
     "output_type": "stream",
     "text": [
      "<class 'numpy.ndarray'>\n",
      "5\n",
      "[0 1 2]\n",
      "9\n",
      "[0 1 2 3 4 5 6 7 8 9]\n"
     ]
    }
   ],
   "source": [
    "import numpy as np\n",
    "a = np.array([0,1,2,3,4,5,6,7,8,9])\n",
    "print(type(a))\n",
    "print(a[5])\n",
    "print(a[0:3])\n",
    "print(a[-1])\n",
    "print(a[:])"
   ]
  },
  {
   "cell_type": "code",
   "execution_count": 32,
   "metadata": {},
   "outputs": [
    {
     "name": "stdout",
     "output_type": "stream",
     "text": [
      "train data: [0 1 2 3 4 5 6 7]\n",
      "val data: [ 8  9 10]\n"
     ]
    }
   ],
   "source": [
    "import numpy as np\n",
    "data = np.array([0,1,2,3,4,5,6,7,8,9,10])\n",
    "num_train = 8\n",
    "num_val   = 3\n",
    "mask = range(num_train)\n",
    "data_train = data[mask]\n",
    "print('{}'.format(\"train data:\"),data_train)\n",
    "mask = range(num_train,num_train+num_val)     # range(start,stop): [start,stop)\n",
    "data_val = data[mask]\n",
    "print('{}'.format(\"val data:\"),data_val)"
   ]
  },
  {
   "cell_type": "markdown",
   "metadata": {},
   "source": [
    "### np.reshape"
   ]
  },
  {
   "cell_type": "code",
   "execution_count": 39,
   "metadata": {},
   "outputs": [
    {
     "name": "stdout",
     "output_type": "stream",
     "text": [
      "(3, 2, 2)\n",
      "[[ 1  2  3  4]\n",
      " [ 5  6  7  8]\n",
      " [ 9 10 11 12]]\n"
     ]
    }
   ],
   "source": [
    "a = np.array([\n",
    "              [[1,2],[3,4]],\n",
    "              [[5,6],[7,8]],\n",
    "              [[9,10],[11,12]]\n",
    "             ])\n",
    "print(a.shape)\n",
    "b = np.reshape(a,(a.shape[0],-1))\n",
    "print(b)"
   ]
  },
  {
   "cell_type": "markdown",
   "metadata": {},
   "source": [
    "### expand_dims"
   ]
  },
  {
   "cell_type": "code",
   "execution_count": 3,
   "metadata": {},
   "outputs": [
    {
     "name": "stdout",
     "output_type": "stream",
     "text": [
      "[1 2 3]\n",
      "[[1]\n",
      " [2]\n",
      " [3]]\n"
     ]
    }
   ],
   "source": [
    "X_train = np.array([1,2,3])\n",
    "print(X_train)\n",
    "X_train = np.expand_dims(X_train, axis=-1)\n",
    "print(X_train)"
   ]
  },
  {
   "cell_type": "markdown",
   "metadata": {},
   "source": [
    "### random.choice\n",
    "- param: replace\n",
    "\n",
    "replace=True: 可以从a 中反复选取同一个元素。 \n",
    "\n",
    "replace=False: a 中同一个元素只能被选取一次。"
   ]
  },
  {
   "cell_type": "code",
   "execution_count": 68,
   "metadata": {},
   "outputs": [
    {
     "name": "stdout",
     "output_type": "stream",
     "text": [
      "-----       vector random choice      -------\n",
      "[1 7 4]\n",
      "[2 8 5]\n",
      "-----       matrix random choice      -------\n",
      "[1 2]\n",
      "[[0 2 2]\n",
      " [3 3 0]]\n",
      "-----       random choice:param replace     -------\n",
      "[1 5 3]\n",
      "[2 6 4]\n"
     ]
    }
   ],
   "source": [
    "import numpy as np\n",
    "print('-----       vector random choice      -------')\n",
    "data = np.array([1,2,3,4,5,6,7,8,9,10])\n",
    "mask = np.random.choice(10,3)\n",
    "print(mask)\n",
    "print(data[mask])\n",
    "print('-----       matrix random choice      -------')\n",
    "data = np.array([[0,1,1],\n",
    "                [0,2,2],\n",
    "                [3,3,0],\n",
    "                [4,0,4]])\n",
    "mask = np.random.choice(data.shape[0],2)\n",
    "print(mask)\n",
    "print(data[mask])\n"
   ]
  },
  {
   "cell_type": "markdown",
   "metadata": {},
   "source": [
    "### matrix运算：add/sub"
   ]
  },
  {
   "cell_type": "code",
   "execution_count": 52,
   "metadata": {},
   "outputs": [
    {
     "name": "stdout",
     "output_type": "stream",
     "text": [
      "-----       number + matrix      -------\n",
      "[[4 5 5]\n",
      " [4 6 6]\n",
      " [7 7 4]\n",
      " [8 4 8]]\n",
      "-----       vector + matrix      -------\n",
      "[[1 2 2]\n",
      " [1 3 3]\n",
      " [4 4 1]\n",
      " [5 1 5]]\n",
      "-----       vector + matrix      -------\n",
      "[[1 2 2]\n",
      " [1 3 3]\n",
      " [4 4 1]\n",
      " [5 1 5]]\n"
     ]
    }
   ],
   "source": [
    "import numpy as np\n",
    "print('-----       number + matrix      -------')\n",
    "a = np.array([[0,1,1],\n",
    "              [0,2,2],\n",
    "              [3,3,0],\n",
    "              [4,0,4]])\n",
    "b = 4\n",
    "print(a+b)\n",
    "print('-----       vector + matrix 按行加     -------')\n",
    "b = np.array([1,1,1])\n",
    "print(a+b)\n",
    "print('-----       vector + matrix 按列加     -------')\n",
    "b = np.array([1,1,1,1]).reshape(4,1)\n",
    "print(a+b)"
   ]
  },
  {
   "cell_type": "markdown",
   "metadata": {},
   "source": [
    "### matrix运算：mul/div"
   ]
  },
  {
   "cell_type": "code",
   "execution_count": 1,
   "metadata": {},
   "outputs": [
    {
     "name": "stdout",
     "output_type": "stream",
     "text": [
      "-----       vector * matrix      -------\n",
      "[[ 0  2  2]\n",
      " [ 0  6  6]\n",
      " [12 12  0]\n",
      " [20  0 20]]\n"
     ]
    }
   ],
   "source": [
    "import numpy as np\n",
    "print('-----       vector * matrix      -------')\n",
    "a = np.array([[0,1,1],\n",
    "              [0,2,2],\n",
    "              [3,3,0],\n",
    "              [4,0,4]])\n",
    "b = np.array([2,3,4,5]).reshape(4,1)\n",
    "print(a*b)"
   ]
  },
  {
   "cell_type": "code",
   "execution_count": 5,
   "metadata": {},
   "outputs": [
    {
     "name": "stdout",
     "output_type": "stream",
     "text": [
      "[[ 6  6  6]\n",
      " [12 12 12]\n",
      " [18 18 18]]\n",
      "[[1 1 1]\n",
      " [4 4 4]\n",
      " [9 9 9]]\n",
      "[[ 5  5  5]\n",
      " [10 10 10]\n",
      " [15 15 15]]\n",
      "[[6 6 6]\n",
      " [7 7 7]\n",
      " [8 8 8]]\n"
     ]
    }
   ],
   "source": [
    "a = np.array([[1,1,1],\n",
    "              [2,2,2],\n",
    "              [3,3,3]])\n",
    "m = a.dot(a)\n",
    "print(m)\n",
    "print(a*a)\n",
    "b = np.array([5,5,5])\n",
    "print(a*b)\n",
    "print(a+b)"
   ]
  },
  {
   "cell_type": "markdown",
   "metadata": {},
   "source": [
    "## section 2:\n"
   ]
  },
  {
   "cell_type": "markdown",
   "metadata": {},
   "source": [
    "### Mask\n",
    "1. 从二维矩阵中提取，每行提取一个值。\n",
    "2. 修改特定位置的值"
   ]
  },
  {
   "cell_type": "code",
   "execution_count": 56,
   "metadata": {},
   "outputs": [
    {
     "name": "stdout",
     "output_type": "stream",
     "text": [
      "[0 0 0 0]\n",
      "[[1 2 3]\n",
      " [1 5 6]\n",
      " [8 7 1]\n",
      " [7 1 1]]\n"
     ]
    }
   ],
   "source": [
    "import numpy as np\n",
    "a = np.array([[0,2,3],\n",
    "              [0,5,6],\n",
    "              [8,7,0],\n",
    "              [7,0,1]])\n",
    "mask_col = np.array([0,0,2,1])      # 存放提取位置的col-index\n",
    "mask_row = np.arange(4)             # 存放提取位置的row-index\n",
    "mask     = [mask_row,mask_col]\n",
    "res = a[mask]\n",
    "print(res)\n",
    "\n",
    "a[mask] = 1                         # 可以通过mask修改矩阵特定位置的值\n",
    "print(a)"
   ]
  },
  {
   "cell_type": "markdown",
   "metadata": {},
   "source": [
    "### Mask\n",
    "1. 对所有符合条件的位置，重新赋值"
   ]
  },
  {
   "cell_type": "code",
   "execution_count": 18,
   "metadata": {},
   "outputs": [
    {
     "name": "stdout",
     "output_type": "stream",
     "text": [
      "[[False False  True]\n",
      " [False  True  True]\n",
      " [ True  True False]\n",
      " [ True False False]]\n",
      "[[0 2 0]\n",
      " [0 0 0]\n",
      " [0 0 0]\n",
      " [0 0 1]]\n"
     ]
    }
   ],
   "source": [
    "import numpy as np\n",
    "a = np.array([[0,2,3],\n",
    "              [0,5,6],\n",
    "              [8,7,0],\n",
    "              [7,0,1]])\n",
    "mask = a > 2\n",
    "print(mask)\n",
    "a[mask] = 0\n",
    "print(a)"
   ]
  },
  {
   "cell_type": "markdown",
   "metadata": {},
   "source": [
    "### sum"
   ]
  },
  {
   "cell_type": "code",
   "execution_count": 55,
   "metadata": {},
   "outputs": [
    {
     "name": "stdout",
     "output_type": "stream",
     "text": [
      "20\n",
      "[2 4 6 8]\n",
      "[7 6 7]\n"
     ]
    }
   ],
   "source": [
    "a = np.array([[0,1,1],\n",
    "              [0,2,2],\n",
    "              [3,3,0],\n",
    "              [4,0,4]])\n",
    "b = np.sum(a)\n",
    "print(b)\n",
    "c = np.sum(a,1)    #各列相加，结果的维数与行数一致\n",
    "print(c)\n",
    "d = np.sum(a,0)    #各行相加，结果的维数与列数一致\n",
    "print(d)"
   ]
  },
  {
   "cell_type": "markdown",
   "metadata": {},
   "source": [
    "### argmax\n",
    "numpy.argmax(a, axis=None, out=None)\n",
    "\n",
    "Parameters:\t\n",
    "\n",
    "- a : array_like Input array.\n",
    "- axis : int, optional By default, the index is into the flattened array, otherwise along the specified axis.\n",
    "\n",
    "- out : array, optional。If provided, the result will be inserted into this array. It should be of the appropriate shape and dtype.\n",
    "\n",
    "- Returns:\t\n",
    "index_array : ndarray of ints Array of indices into the array. It has the same shape as a.shape with the dimension along axis removed."
   ]
  },
  {
   "cell_type": "code",
   "execution_count": 76,
   "metadata": {},
   "outputs": [
    {
     "name": "stdout",
     "output_type": "stream",
     "text": [
      "[4 3 4]\n",
      "[1 1 0 0]\n"
     ]
    }
   ],
   "source": [
    "a = np.array([[0,1,1],\n",
    "              [0,2,2],\n",
    "              [3,3,0],\n",
    "              [4,0,4]])\n",
    "index = np.argmax(a,axis=0)  # 按行比较\n",
    "print(index)\n",
    "print(a[index,np.arange(3)])   \n",
    "\n",
    "index = np.argmax(a,axis=1)  # 按列比较\n",
    "print(index)\n"
   ]
  },
  {
   "cell_type": "markdown",
   "metadata": {},
   "source": [
    "#### maximum"
   ]
  },
  {
   "cell_type": "code",
   "execution_count": 2,
   "metadata": {},
   "outputs": [
    {
     "name": "stdout",
     "output_type": "stream",
     "text": [
      "[[2 2 2]\n",
      " [2 2 2]\n",
      " [3 3 2]\n",
      " [4 2 4]]\n",
      "[1 1 2 2 3 3 4 4]\n",
      "[[False  True  True]\n",
      " [False  True  True]\n",
      " [ True  True False]\n",
      " [ True False  True]]\n"
     ]
    }
   ],
   "source": [
    "import numpy as np\n",
    "a = np.array([[0,1,1],\n",
    "              [0,2,2],\n",
    "              [3,3,0],\n",
    "              [4,0,4]])\n",
    "print(np.maximum(2,a))\n",
    "print(a[a>0])\n",
    "print(a>0)"
   ]
  },
  {
   "cell_type": "markdown",
   "metadata": {},
   "source": [
    "### max"
   ]
  },
  {
   "cell_type": "code",
   "execution_count": 17,
   "metadata": {},
   "outputs": [
    {
     "name": "stdout",
     "output_type": "stream",
     "text": [
      "4\n",
      "[1 2 3 4]\n",
      "[4 3 4]\n"
     ]
    }
   ],
   "source": [
    "import numpy as np\n",
    "a = np.array([[0,1,1],\n",
    "              [0,2,2],\n",
    "              [3,3,0],\n",
    "              [4,0,4]])\n",
    "print(np.max(a))\n",
    "print(np.max(a,axis=1)) #沿着轴1，即列的方向做比较\n",
    "print(np.max(a,axis=0)) #沿着轴0，即行的方向做比较"
   ]
  },
  {
   "cell_type": "markdown",
   "metadata": {},
   "source": [
    "### 矩阵对角问题"
   ]
  },
  {
   "cell_type": "code",
   "execution_count": null,
   "metadata": {},
   "outputs": [],
   "source": [
    "# 创建对角阵\n",
    "a = np.array([1,2,3,4])\n",
    "b = np.diag(a)\n",
    "print(b)\n",
    "# 提取对角元素\n",
    "c = np.diag(b)\n",
    "print(c)\n"
   ]
  },
  {
   "cell_type": "markdown",
   "metadata": {},
   "source": [
    "### 矩阵合并与添加\n",
    "- hstack 多添加几列\n",
    "- vstack 多添加几行"
   ]
  },
  {
   "cell_type": "code",
   "execution_count": 12,
   "metadata": {},
   "outputs": [
    {
     "name": "stdout",
     "output_type": "stream",
     "text": [
      "[1 0 2]\n",
      "[[4 5 6]\n",
      " [1 2 3]\n",
      " [7 8 9]\n",
      " [4 5 6]\n",
      " [1 2 3]\n",
      " [7 8 9]]\n"
     ]
    }
   ],
   "source": [
    "import numpy as np\n",
    "a = np.array([[1,2,3],[4,5,6],[7,8,9]])\n",
    "b = np.array([[1,2,3],[4,5,6],[7,8,9]])\n",
    "\n",
    "mask = np.random.choice(3,3,replace=False)\n",
    "print(mask)\n",
    "c = np.vstack((a[mask],b[mask]))\n",
    "print(c)"
   ]
  },
  {
   "cell_type": "code",
   "execution_count": 17,
   "metadata": {},
   "outputs": [
    {
     "name": "stdout",
     "output_type": "stream",
     "text": [
      "[0. 0. 0. 0. 0. 0. 0. 0. 0. 0. 1. 1. 1. 1. 1. 1. 1. 1. 1. 1.]\n",
      "[False False False False False False False False False False  True  True\n",
      "  True  True  True  True  True  True  True  True]\n"
     ]
    }
   ],
   "source": [
    "import numpy as np\n",
    "a = np.zeros(10)\n",
    "b = np.ones(10)\n",
    "c = np.hstack((a,b))\n",
    "print(c)\n",
    "print(c==1)"
   ]
  },
  {
   "cell_type": "markdown",
   "metadata": {},
   "source": [
    "## 求满足特定条件元素的索引\n"
   ]
  },
  {
   "cell_type": "markdown",
   "metadata": {},
   "source": [
    "### 求每行/列最大值索引\n",
    "numpy.argmax(a, axis=None, out=None)\n",
    "\n",
    "Returns the indices of the maximum values along an axis."
   ]
  },
  {
   "cell_type": "code",
   "execution_count": 6,
   "metadata": {
    "scrolled": true
   },
   "outputs": [
    {
     "name": "stdout",
     "output_type": "stream",
     "text": [
      "9\n",
      "[2 2 2 2]\n",
      "[3 2 1]\n"
     ]
    }
   ],
   "source": [
    "import numpy as np\n",
    "a = np.array([[1,2,3,4],\n",
    "              [5,6,8,8],\n",
    "              [9,18,11,12]])\n",
    "# 如果不指定轴，则按照将矩阵平铺成向量求最大值索引\n",
    "print(np.argmax(a)) \n",
    "# 第一轴进行比较（按行比较）获取每列最大值的行索引\n",
    "idxs = np.argmax(a,0)  \n",
    "print(idxs)\n",
    "# 第二轴进行比较（按列比较）获取每行最大值的列索引\n",
    "idxs = np.argmax(a,1)\n",
    "print(idxs)"
   ]
  },
  {
   "cell_type": "markdown",
   "metadata": {},
   "source": [
    "## 练习"
   ]
  },
  {
   "cell_type": "markdown",
   "metadata": {},
   "source": [
    "### 维度扩展"
   ]
  },
  {
   "cell_type": "markdown",
   "metadata": {},
   "source": [
    "- 使用np.reshape()"
   ]
  },
  {
   "cell_type": "code",
   "execution_count": 5,
   "metadata": {},
   "outputs": [
    {
     "name": "stdout",
     "output_type": "stream",
     "text": [
      "(2, 2)\n",
      "[[[1 2]\n",
      "  [3 4]]]\n",
      "(1, 2, 2)\n"
     ]
    }
   ],
   "source": [
    "import numpy as np\n",
    "a = np.array([[1,2],\n",
    "              [3,4]])\n",
    "print(a.shape)\n",
    "#b = np.reshape(a,(1,a.shape[0],a.shape[1]))\n",
    "b = np.reshape(a,(1,)+a.shape)\n",
    "print(b)\n",
    "print(b.shape)"
   ]
  },
  {
   "cell_type": "markdown",
   "metadata": {},
   "source": [
    "- 使用np.newaxis()"
   ]
  },
  {
   "cell_type": "code",
   "execution_count": 13,
   "metadata": {},
   "outputs": [
    {
     "name": "stdout",
     "output_type": "stream",
     "text": [
      "(2, 2)\n",
      "[[[1 2]\n",
      "  [3 4]]]\n",
      "(1, 2, 2)\n"
     ]
    }
   ],
   "source": [
    "import numpy as np\n",
    "a = np.array([[1,2],\n",
    "              [3,4]])\n",
    "print(a.shape)\n",
    "#b = a[np.newaxis,:,:]  #ok\n",
    "#b = a[np.newaxis,:]    #ok\n",
    "b = a[np.newaxis]\n",
    "print(b)\n",
    "print(b.shape)"
   ]
  },
  {
   "cell_type": "code",
   "execution_count": 14,
   "metadata": {},
   "outputs": [
    {
     "name": "stdout",
     "output_type": "stream",
     "text": [
      "[[[1 2]]\n",
      "\n",
      " [[3 4]]]\n",
      "(2, 1, 2)\n"
     ]
    }
   ],
   "source": [
    "b = a[:,np.newaxis,:]\n",
    "print(b)\n",
    "print(b.shape)"
   ]
  },
  {
   "cell_type": "markdown",
   "metadata": {},
   "source": [
    "# random\n",
    "np.random类"
   ]
  },
  {
   "cell_type": "markdown",
   "metadata": {},
   "source": [
    "### numpy.random.seed()\n",
    "seed()可以保证了在同一次运行中连续使用多次random得到不同的结果，但重新运行可以得到与上次运行同样的结果。"
   ]
  },
  {
   "cell_type": "code",
   "execution_count": 4,
   "metadata": {},
   "outputs": [
    {
     "name": "stdout",
     "output_type": "stream",
     "text": [
      "--------------\n",
      "[[ 0.41794341  1.39710028 -1.78590431]\n",
      " [-0.70882773 -0.07472532 -0.77501677]]\n",
      "--------------\n",
      "[[-0.1497979   1.86172902 -1.4255293 ]\n",
      " [-0.3763567  -0.34227539  0.29490764]]\n",
      "--------------\n",
      "[[-0.83732373  0.95218767  1.32931659]\n",
      " [ 0.52465245 -0.14809998  0.88953195]]\n"
     ]
    }
   ],
   "source": [
    "import numpy as np\n",
    "np.random.seed(231)\n",
    "for i in range(3):\n",
    "    x = np.random.randn(2,3)\n",
    "    print(\"--------------\")\n",
    "    print(x)"
   ]
  },
  {
   "cell_type": "code",
   "execution_count": 20,
   "metadata": {},
   "outputs": [
    {
     "name": "stdout",
     "output_type": "stream",
     "text": [
      "(3, 5, 5)\n",
      "[[[1 4 3 3 2]\n",
      "  [3 4 2 4 2]\n",
      "  [2 1 1 1 2]\n",
      "  [4 3 3 1 3]\n",
      "  [2 2 3 2 2]]\n",
      "\n",
      " [[2 1 4 1 2]\n",
      "  [3 2 1 4 4]\n",
      "  [3 1 1 2 4]\n",
      "  [2 4 4 1 2]\n",
      "  [4 4 4 4 2]]\n",
      "\n",
      " [[4 1 4 3 4]\n",
      "  [3 4 3 2 3]\n",
      "  [2 3 1 4 1]\n",
      "  [4 2 1 1 2]\n",
      "  [3 2 2 2 3]]]\n",
      "[[2 1 4 1 2]\n",
      " [3 2 1 4 4]\n",
      " [3 1 1 2 4]\n",
      " [2 4 4 1 2]\n",
      " [4 4 4 4 2]]\n"
     ]
    }
   ],
   "source": [
    "c = np.random.randint(1,5,size=(3,5,5))\n",
    "print(c.shape)\n",
    "print(c)\n",
    "print(c[0,:,:])"
   ]
  },
  {
   "cell_type": "markdown",
   "metadata": {},
   "source": [
    "### random.rand(d0,d1,d2...dn)\n",
    "创建指定维度的矩阵满足`[0,1)`均匀分布。"
   ]
  },
  {
   "cell_type": "code",
   "execution_count": 8,
   "metadata": {},
   "outputs": [
    {
     "name": "stdout",
     "output_type": "stream",
     "text": [
      "[[0.64597798 0.04273061 0.61705425]\n",
      " [0.26200791 0.71747807 0.99686535]]\n",
      "[[False  True False]\n",
      " [ True False False]]\n",
      "[[0. 1. 0.]\n",
      " [1. 0. 0.]]\n"
     ]
    }
   ],
   "source": [
    "import numpy as np\n",
    "x = np.ones((2,3))\n",
    "m = np.random.rand(2,3)\n",
    "print(m)\n",
    "p = m<0.4\n",
    "print(p)\n",
    "print(x*p)"
   ]
  },
  {
   "cell_type": "markdown",
   "metadata": {},
   "source": [
    "### 高斯矩阵\n",
    "- np.random.randn\n",
    "输出的是均值=0，标准差为1的高斯矩阵，\n",
    "- np.random.nomal\n",
    "可以指定均值，标准差，维度大小"
   ]
  },
  {
   "cell_type": "code",
   "execution_count": 14,
   "metadata": {},
   "outputs": [
    {
     "name": "stdout",
     "output_type": "stream",
     "text": [
      "[[ 1.38025586  4.28970843 -0.37593854]\n",
      " [-0.25863409  0.84407187  1.71028294]]\n",
      "[[ 1.83443816  0.59560862  1.04718473]\n",
      " [ 4.2749247  -1.73347933 -0.98769928]]\n"
     ]
    }
   ],
   "source": [
    "import numpy as np\n",
    "a = np.random.randn(2,3)*2\n",
    "b = np.random.normal(0,2,(2,3))\n",
    "print(a)\n",
    "print(b)"
   ]
  },
  {
   "cell_type": "code",
   "execution_count": 12,
   "metadata": {},
   "outputs": [
    {
     "name": "stdout",
     "output_type": "stream",
     "text": [
      "mean:-0.06620128898604043\n",
      "std:1.980867119218788\n"
     ]
    }
   ],
   "source": [
    "import numpy as np\n",
    "a = np.random.randn(1000) * 2\n",
    "print(\"mean:{}\".format(np.mean(a)))\n",
    "print(\"std:{}\".format(np.std(a)))\n",
    "\n"
   ]
  },
  {
   "cell_type": "code",
   "execution_count": null,
   "metadata": {},
   "outputs": [],
   "source": [
    "http://www.cnblogs.com/sench/p/9683905.html"
   ]
  },
  {
   "cell_type": "markdown",
   "metadata": {},
   "source": [
    "### np.pad"
   ]
  },
  {
   "cell_type": "code",
   "execution_count": null,
   "metadata": {},
   "outputs": [],
   "source": []
  },
  {
   "cell_type": "markdown",
   "metadata": {},
   "source": [
    "# Save or load numpy"
   ]
  },
  {
   "cell_type": "code",
   "execution_count": 4,
   "metadata": {},
   "outputs": [],
   "source": [
    "a = np.random.randn(2,3)*2\n",
    "np.save(\"filename.npy\",a) "
   ]
  },
  {
   "cell_type": "code",
   "execution_count": 5,
   "metadata": {},
   "outputs": [
    {
     "data": {
      "text/plain": [
       "array([[-1.47295776,  1.68217604, -1.39034703],\n",
       "       [ 1.57932087,  1.76822766, -1.00277456]])"
      ]
     },
     "execution_count": 5,
     "metadata": {},
     "output_type": "execute_result"
    }
   ],
   "source": [
    "b = np.load(\"filename.npy\")\n",
    "b"
   ]
  },
  {
   "cell_type": "code",
   "execution_count": 6,
   "metadata": {},
   "outputs": [
    {
     "name": "stdout",
     "output_type": "stream",
     "text": [
      "0\n",
      "1\n"
     ]
    }
   ],
   "source": [
    "import numpy as np\n",
    "x = np.array(12)\n",
    "print(x.ndim)\n",
    "x = np.array([1,2,3,4])\n",
    "print(x.ndim)"
   ]
  },
  {
   "cell_type": "code",
   "execution_count": null,
   "metadata": {},
   "outputs": [],
   "source": []
  }
 ],
 "metadata": {
  "kernelspec": {
   "display_name": "Python 3",
   "language": "python",
   "name": "python3"
  },
  "language_info": {
   "codemirror_mode": {
    "name": "ipython",
    "version": 3
   },
   "file_extension": ".py",
   "mimetype": "text/x-python",
   "name": "python",
   "nbconvert_exporter": "python",
   "pygments_lexer": "ipython3",
   "version": "3.6.10"
  },
  "toc": {
   "base_numbering": 1,
   "nav_menu": {},
   "number_sections": true,
   "sideBar": true,
   "skip_h1_title": false,
   "title_cell": "Table of Contents",
   "title_sidebar": "Contents",
   "toc_cell": false,
   "toc_position": {
    "height": "calc(100% - 180px)",
    "left": "10px",
    "top": "150px",
    "width": "384px"
   },
   "toc_section_display": true,
   "toc_window_display": true
  }
 },
 "nbformat": 4,
 "nbformat_minor": 2
}
