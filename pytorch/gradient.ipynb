{
 "cells": [
  {
   "cell_type": "markdown",
   "metadata": {},
   "source": [
    "# gradient\n",
    "在pytorch的计算流图中，只有叶子节点的grad才会在backward()后有值，其余节点的grad都为None"
   ]
  },
  {
   "cell_type": "code",
   "execution_count": 26,
   "metadata": {},
   "outputs": [
    {
     "name": "stdout",
     "output_type": "stream",
     "text": [
      "None\n",
      "tensor([0.7311, 0.8808, 0.9526], grad_fn=<SigmoidBackward>)\n",
      "tensor([ 0.2935,  0.0508, -0.0225]) True\n",
      "None False\n",
      "tensor([[0.7311, 0.8808, 0.9526]]) True\n"
     ]
    }
   ],
   "source": [
    "import torch \n",
    "# x is leaf\n",
    "x = torch.tensor([1.,2.,3.], requires_grad=True)\n",
    "print(x.grad)\n",
    "# y not leaf\n",
    "y = x.sigmoid()\n",
    "print(y)\n",
    "# w is leaf\n",
    "w = torch.randn(1,3, requires_grad=True)\n",
    "z = y * w\n",
    "# output and backward\n",
    "o = z.sum()\n",
    "o.backward()\n",
    "# print results\n",
    "print(x.grad, x.is_leaf)\n",
    "print(y.grad,y.is_leaf)\n",
    "print(w.grad,w.is_leaf)"
   ]
  },
  {
   "cell_type": "markdown",
   "metadata": {},
   "source": [
    "## Variable\n",
    "Variable是为了构架计算流图诞生的，其有三个属性：\n",
    "- data: Tensor本身\n",
    "- grad: Tensor的梯度\n",
    "- grad_fn：对应一个Function\n",
    "\n",
    "```\n",
    "from torch.autograd import Variable\n",
    "```"
   ]
  },
  {
   "cell_type": "markdown",
   "metadata": {},
   "source": [
    "### Variable与Tensor的区别\n",
    "- Tensor对象支持在原对象内存区域上修改数据\n",
    "- Variable不支持在原对象内存区域上修改数据\n",
    "- 对Variable对象的操作，操作会被记录,可通过grad_fn属性查看上一次的操作，可通过data属性访问原始张量\n"
   ]
  },
  {
   "cell_type": "markdown",
   "metadata": {},
   "source": [
    "## requires_grad\n",
    "tensor的requires_grad参数，如果为True，那么在反向传播时，会自动求导，"
   ]
  },
  {
   "cell_type": "code",
   "execution_count": null,
   "metadata": {},
   "outputs": [],
   "source": []
  },
  {
   "cell_type": "markdown",
   "metadata": {},
   "source": [
    "## leaf\n",
    "- 当grad_fn为None时，无论requires_grad为True还是False，都为叶子变量，即只要是直接初始化的就为叶子变量\n",
    "- 当grad_fn不为None时，requires_grad = False为叶子变量，requires_grad = True为非叶子变量"
   ]
  },
  {
   "cell_type": "markdown",
   "metadata": {},
   "source": [
    "情况1: 直接初始化的都为叶子变量\n",
    "\n",
    "grad_fn=None"
   ]
  },
  {
   "cell_type": "code",
   "execution_count": 4,
   "metadata": {
    "scrolled": true
   },
   "outputs": [
    {
     "data": {
      "text/plain": [
       "True"
      ]
     },
     "execution_count": 4,
     "metadata": {},
     "output_type": "execute_result"
    }
   ],
   "source": [
    "x = torch.tensor([1,2,3], dtype=torch.float, requires_grad=True)\n",
    "x.is_leaf"
   ]
  },
  {
   "cell_type": "markdown",
   "metadata": {},
   "source": [
    "情况2：通过运算，生成新的tensor\n",
    "\n",
    "grad_fn ！=None，requires_grad = True"
   ]
  },
  {
   "cell_type": "code",
   "execution_count": 9,
   "metadata": {},
   "outputs": [
    {
     "data": {
      "text/plain": [
       "(False, True, <PowBackward0 at 0x2b7999867f0>)"
      ]
     },
     "execution_count": 9,
     "metadata": {},
     "output_type": "execute_result"
    }
   ],
   "source": [
    "y = x**2\n",
    "y.is_leaf, y.requires_grad, y.grad_fn"
   ]
  },
  {
   "cell_type": "markdown",
   "metadata": {},
   "source": [
    "情况3：基于运算操作生成的tensor，只有当任意一个叶子节点requires_grad!=False时，才能生成非叶子节点"
   ]
  },
  {
   "cell_type": "code",
   "execution_count": 7,
   "metadata": {},
   "outputs": [
    {
     "data": {
      "text/plain": [
       "(True, False)"
      ]
     },
     "execution_count": 7,
     "metadata": {},
     "output_type": "execute_result"
    }
   ],
   "source": [
    "w = torch.randn(2, 3, requires_grad = False)\n",
    "z = torch.randn(2, 3, requires_grad = False)\n",
    "u = w + z\n",
    "u.is_leaf, u.requires_grad"
   ]
  },
  {
   "cell_type": "code",
   "execution_count": 8,
   "metadata": {},
   "outputs": [
    {
     "data": {
      "text/plain": [
       "(False, True)"
      ]
     },
     "execution_count": 8,
     "metadata": {},
     "output_type": "execute_result"
    }
   ],
   "source": [
    "w = torch.randn(2, 3, requires_grad = False)\n",
    "z = torch.randn(2, 3, requires_grad = True)\n",
    "u = w + z\n",
    "u.is_leaf, u.requires_grad"
   ]
  },
  {
   "cell_type": "markdown",
   "metadata": {},
   "source": [
    "## detach\n",
    "当我们在训练网络的时候可能希望保持一部分的网络参数不变，只对其中一部分的参数进行调整；或者只训练部分分支网络，并不让其梯度对主网络的梯度造成影响，这时候我们就需要使用detach()函数来切断一些分支的反向传播\n",
    "\n",
    "作用：\n",
    "- 返回一个从当前计算图中分离下的Variable，但与源Variable指向同一个tensor，返回的Variable永远不会需要梯度\n",
    "- 将requires_grad置为False，将grad_fn置为None"
   ]
  },
  {
   "cell_type": "code",
   "execution_count": 35,
   "metadata": {},
   "outputs": [
    {
     "name": "stdout",
     "output_type": "stream",
     "text": [
      "None\n",
      "tensor([0.7311, 0.8808, 0.9526], grad_fn=<SigmoidBackward>)\n",
      "z:2.564429759979248,True,<SumBackward0 object at 0x000002B799986FD0>\n",
      "z_d:2.564429759979248,False,None\n"
     ]
    }
   ],
   "source": [
    "import torch \n",
    "x = torch.tensor([1.,2.,3.], requires_grad=True)\n",
    "print(x.grad)\n",
    "y = x.sigmoid()\n",
    "print(y)\n",
    "z = y.sum()\n",
    "print(f'z:{z},{z.requires_grad},{z.grad_fn}')\n",
    "z_d = z.detach()\n",
    "print(f'z_d:{z_d},{z_d.requires_grad},{z_d.grad_fn}')\n",
    "z.backward()\n"
   ]
  },
  {
   "cell_type": "markdown",
   "metadata": {},
   "source": [
    "1. 不能对detach的Variable进行backward"
   ]
  },
  {
   "cell_type": "code",
   "execution_count": 38,
   "metadata": {},
   "outputs": [
    {
     "ename": "RuntimeError",
     "evalue": "element 0 of tensors does not require grad and does not have a grad_fn",
     "output_type": "error",
     "traceback": [
      "\u001b[1;31m---------------------------------------------------------------------------\u001b[0m",
      "\u001b[1;31mRuntimeError\u001b[0m                              Traceback (most recent call last)",
      "\u001b[1;32m<ipython-input-38-b7ba47ad5f03>\u001b[0m in \u001b[0;36m<module>\u001b[1;34m\u001b[0m\n\u001b[1;32m----> 1\u001b[1;33m \u001b[0mz_d\u001b[0m\u001b[1;33m.\u001b[0m\u001b[0mbackward\u001b[0m\u001b[1;33m(\u001b[0m\u001b[1;33m)\u001b[0m\u001b[1;33m\u001b[0m\u001b[1;33m\u001b[0m\u001b[0m\n\u001b[0m",
      "\u001b[1;32mC:\\ProgramData\\Anaconda3\\envs\\dp_pytorch11_GPU\\lib\\site-packages\\torch\\tensor.py\u001b[0m in \u001b[0;36mbackward\u001b[1;34m(self, gradient, retain_graph, create_graph)\u001b[0m\n\u001b[0;32m    105\u001b[0m                 \u001b[0mproducts\u001b[0m\u001b[1;33m.\u001b[0m \u001b[0mDefaults\u001b[0m \u001b[0mto\u001b[0m\u001b[0;31m \u001b[0m\u001b[0;31m`\u001b[0m\u001b[0;31m`\u001b[0m\u001b[1;32mFalse\u001b[0m\u001b[0;31m`\u001b[0m\u001b[0;31m`\u001b[0m\u001b[1;33m.\u001b[0m\u001b[1;33m\u001b[0m\u001b[1;33m\u001b[0m\u001b[0m\n\u001b[0;32m    106\u001b[0m         \"\"\"\n\u001b[1;32m--> 107\u001b[1;33m         \u001b[0mtorch\u001b[0m\u001b[1;33m.\u001b[0m\u001b[0mautograd\u001b[0m\u001b[1;33m.\u001b[0m\u001b[0mbackward\u001b[0m\u001b[1;33m(\u001b[0m\u001b[0mself\u001b[0m\u001b[1;33m,\u001b[0m \u001b[0mgradient\u001b[0m\u001b[1;33m,\u001b[0m \u001b[0mretain_graph\u001b[0m\u001b[1;33m,\u001b[0m \u001b[0mcreate_graph\u001b[0m\u001b[1;33m)\u001b[0m\u001b[1;33m\u001b[0m\u001b[1;33m\u001b[0m\u001b[0m\n\u001b[0m\u001b[0;32m    108\u001b[0m \u001b[1;33m\u001b[0m\u001b[0m\n\u001b[0;32m    109\u001b[0m     \u001b[1;32mdef\u001b[0m \u001b[0mregister_hook\u001b[0m\u001b[1;33m(\u001b[0m\u001b[0mself\u001b[0m\u001b[1;33m,\u001b[0m \u001b[0mhook\u001b[0m\u001b[1;33m)\u001b[0m\u001b[1;33m:\u001b[0m\u001b[1;33m\u001b[0m\u001b[1;33m\u001b[0m\u001b[0m\n",
      "\u001b[1;32mC:\\ProgramData\\Anaconda3\\envs\\dp_pytorch11_GPU\\lib\\site-packages\\torch\\autograd\\__init__.py\u001b[0m in \u001b[0;36mbackward\u001b[1;34m(tensors, grad_tensors, retain_graph, create_graph, grad_variables)\u001b[0m\n\u001b[0;32m     91\u001b[0m     Variable._execution_engine.run_backward(\n\u001b[0;32m     92\u001b[0m         \u001b[0mtensors\u001b[0m\u001b[1;33m,\u001b[0m \u001b[0mgrad_tensors\u001b[0m\u001b[1;33m,\u001b[0m \u001b[0mretain_graph\u001b[0m\u001b[1;33m,\u001b[0m \u001b[0mcreate_graph\u001b[0m\u001b[1;33m,\u001b[0m\u001b[1;33m\u001b[0m\u001b[1;33m\u001b[0m\u001b[0m\n\u001b[1;32m---> 93\u001b[1;33m         allow_unreachable=True)  # allow_unreachable flag\n\u001b[0m\u001b[0;32m     94\u001b[0m \u001b[1;33m\u001b[0m\u001b[0m\n\u001b[0;32m     95\u001b[0m \u001b[1;33m\u001b[0m\u001b[0m\n",
      "\u001b[1;31mRuntimeError\u001b[0m: element 0 of tensors does not require grad and does not have a grad_fn"
     ]
    }
   ],
   "source": [
    "z_d.backward()"
   ]
  },
  {
   "cell_type": "markdown",
   "metadata": {},
   "source": [
    "2. 对detach出的Variable进行修改，也会修改原Variable对应的tensor"
   ]
  },
  {
   "cell_type": "code",
   "execution_count": 37,
   "metadata": {},
   "outputs": [
    {
     "name": "stdout",
     "output_type": "stream",
     "text": [
      "tensor(0.)\n",
      "tensor(0.)\n"
     ]
    }
   ],
   "source": [
    "z_d.zero_()\n",
    "print(z_d.data)\n",
    "print(z.data)"
   ]
  },
  {
   "cell_type": "markdown",
   "metadata": {},
   "source": [
    "### demo"
   ]
  },
  {
   "cell_type": "code",
   "execution_count": 49,
   "metadata": {},
   "outputs": [],
   "source": [
    "import torch\n",
    "import torch.nn as nn\n",
    "layer1 = nn.Conv2d(3,1,(3,3))\n",
    "layer2 = nn.Conv2d(1,1,(3,3))\n",
    "'''\n",
    "#第一种方法\n",
    "'''\n",
    "# 网络层1\n",
    "x = torch.randn(1,3,32,32, requires_grad=True)\n",
    "y = layer1(x)\n",
    "# 网络层2\n",
    "z = layer2(y.detach())\n",
    "o = z.sum()\n",
    "o.backward()\n",
    "'''\n",
    "#第二种方法\n",
    "# 网络层1\n",
    "x = torch.randn(1,3,32,32, requires_grad=True)\n",
    "y = layer1(x)\n",
    "y.detach_()\n",
    "# 网络层2\n",
    "z = layer2(y)\n",
    "o = z.sum()\n",
    "o.backward()\n",
    "'''"
   ]
  },
  {
   "cell_type": "markdown",
   "metadata": {},
   "source": [
    "通过detach，将网络层进行了隔断，在backward的时候，传播到y就截止了，这样只能更新网络层2的参数。"
   ]
  },
  {
   "cell_type": "code",
   "execution_count": 47,
   "metadata": {},
   "outputs": [],
   "source": [
    "layer1.weight.grad"
   ]
  },
  {
   "cell_type": "code",
   "execution_count": 48,
   "metadata": {},
   "outputs": [
    {
     "data": {
      "text/plain": [
       "tensor([[[[-104.8324, -104.7586, -103.7192],\n",
       "          [-105.6326, -106.6240, -106.4484],\n",
       "          [-103.5750, -105.7349, -105.7962]]]])"
      ]
     },
     "execution_count": 48,
     "metadata": {},
     "output_type": "execute_result"
    }
   ],
   "source": [
    "layer2.weight.grad"
   ]
  },
  {
   "cell_type": "markdown",
   "metadata": {},
   "source": [
    "## evaluation\n",
    "\n",
    "模型训练好之后进行评估(也称推理inference)有几点需要注意：\n",
    "- 模型需要进入eval()模式，即调用model.eval()\n",
    "\n",
    "Sets the module in evaluation mode.This has any effect only on certain modules. See documentations of particular modules for details of their behaviors in training/evaluation mode, if they are affected, e.g. Dropout, BatchNorm, etc.\n",
    "\n",
    "- 模型不再需要进行grad，即调用torch.no_grad()\n",
    "由于在求导过程中会消耗内存，故在推理过程中可以避免求导操作，节省内存。\n",
    "```\n",
    "with torch.no_grad():\n",
    "   outputs = model(imgs)\n",
    "```\n",
    "\n"
   ]
  },
  {
   "cell_type": "code",
   "execution_count": 1,
   "metadata": {},
   "outputs": [],
   "source": [
    "from torchvision import datasets"
   ]
  },
  {
   "cell_type": "code",
   "execution_count": null,
   "metadata": {},
   "outputs": [],
   "source": []
  }
 ],
 "metadata": {
  "kernelspec": {
   "display_name": "Python 3",
   "language": "python",
   "name": "python3"
  },
  "language_info": {
   "codemirror_mode": {
    "name": "ipython",
    "version": 3
   },
   "file_extension": ".py",
   "mimetype": "text/x-python",
   "name": "python",
   "nbconvert_exporter": "python",
   "pygments_lexer": "ipython3",
   "version": "3.6.9"
  }
 },
 "nbformat": 4,
 "nbformat_minor": 4
}
