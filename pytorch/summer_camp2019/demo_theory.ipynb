{
 "cells": [
  {
   "cell_type": "markdown",
   "metadata": {},
   "source": [
    "## softmax"
   ]
  },
  {
   "cell_type": "code",
   "execution_count": 2,
   "metadata": {},
   "outputs": [],
   "source": [
    "import torch\n",
    "import torch.nn as nn"
   ]
  },
  {
   "cell_type": "code",
   "execution_count": 2,
   "metadata": {},
   "outputs": [],
   "source": [
    "y = torch.tensor([0,2,1,0])\n",
    "score = torch.tensor([[1,1,1],\n",
    "                      [0,0,0],\n",
    "                      [2,2,2],\n",
    "                      [2,2,2]],dtype=torch.float32)"
   ]
  },
  {
   "cell_type": "markdown",
   "metadata": {},
   "source": [
    "#### right result\n",
    "当每个类别得分都一样的时候，很容易得到softmax结果为"
   ]
  },
  {
   "cell_type": "code",
   "execution_count": 5,
   "metadata": {},
   "outputs": [
    {
     "data": {
      "text/plain": [
       "1.0986122886681098"
      ]
     },
     "execution_count": 5,
     "metadata": {},
     "output_type": "execute_result"
    }
   ],
   "source": [
    "import numpy as np\n",
    "-np.log(1./3)"
   ]
  },
  {
   "cell_type": "markdown",
   "metadata": {},
   "source": [
    "#### softmax formula"
   ]
  },
  {
   "cell_type": "code",
   "execution_count": 12,
   "metadata": {},
   "outputs": [
    {
     "name": "stdout",
     "output_type": "stream",
     "text": [
      "tensor([[2.7183, 2.7183, 2.7183],\n",
      "        [1.0000, 1.0000, 1.0000],\n",
      "        [7.3891, 7.3891, 7.3891],\n",
      "        [7.3891, 7.3891, 7.3891]])\n",
      "tensor([2.7183, 1.0000, 7.3891, 7.3891])\n",
      "tensor(1.0986)\n"
     ]
    }
   ],
   "source": [
    "score_exp = torch.exp(score)\n",
    "score_correct = score_exp[range(4),y]\n",
    "loss = -torch.log(score_correct/torch.sum(score_exp,dim=1))\n",
    "loss = torch.sum(loss)/(4)\n",
    "print(loss)"
   ]
  },
  {
   "cell_type": "markdown",
   "metadata": {},
   "source": [
    "#### pytorch API"
   ]
  },
  {
   "cell_type": "code",
   "execution_count": 23,
   "metadata": {},
   "outputs": [
    {
     "name": "stdout",
     "output_type": "stream",
     "text": [
      "tensor([[1, 0, 0],\n",
      "        [0, 0, 1],\n",
      "        [0, 1, 0],\n",
      "        [1, 0, 0]])\n",
      "tensor(1.0986)\n"
     ]
    }
   ],
   "source": [
    "y_onehot = torch.zeros(4,3).type(torch.LongTensor)\n",
    "y_onehot[range(4),y] = 1\n",
    "print(y_onehot)\n",
    "loss_fun = nn.CrossEntropyLoss()\n",
    "loss = loss_fun(score,y)\n",
    "#loss = loss_fun(score,y_onehot)   # error\n",
    "print(loss)"
   ]
  },
  {
   "cell_type": "markdown",
   "metadata": {},
   "source": [
    "## Autograd"
   ]
  },
  {
   "cell_type": "code",
   "execution_count": 48,
   "metadata": {},
   "outputs": [
    {
     "name": "stdout",
     "output_type": "stream",
     "text": [
      "tensor(0.9580, grad_fn=<DivBackward0>)\n"
     ]
    }
   ],
   "source": [
    "torch.manual_seed(1)    # reproducible\n",
    "X = torch.randn(4,3)         # samples=4, features=3\n",
    "y = torch.tensor([0,2,1,1])  # classes=3\n",
    "W = torch.randn(3,3,requires_grad=True)        \n",
    "b = torch.randn(1,requires_grad=True)\n",
    "\n",
    "score = torch.mm(X,W) + b\n",
    "#------- (2)formular -----------\n",
    "score_exp = torch.exp(score)\n",
    "score_correct = score_exp[range(4),y]\n",
    "loss = -torch.log(score_correct/torch.sum(score_exp,dim=1))\n",
    "loss = torch.sum(loss)/(4)\n",
    "\n",
    "#------- (1)with API -----------\n",
    "#loss_fun = nn.CrossEntropyLoss()\n",
    "#loss = loss_fun(score,y)\n",
    "\n",
    "print(loss)"
   ]
  },
  {
   "cell_type": "markdown",
   "metadata": {},
   "source": [
    "#### softmax formula"
   ]
  },
  {
   "cell_type": "code",
   "execution_count": 51,
   "metadata": {},
   "outputs": [
    {
     "name": "stdout",
     "output_type": "stream",
     "text": [
      "tensor([[-0.3271,  0.3744, -0.0472],\n",
      "        [-0.0770,  0.0185,  0.0586],\n",
      "        [-0.1946,  0.1629,  0.0316]])\n"
     ]
    }
   ],
   "source": [
    "with torch.no_grad():\n",
    "    score_correct = score[range(4),y]\n",
    "    score_exp     = torch.exp(score)\n",
    "    score_total   = torch.sum(score_exp,dim=1)\n",
    "    \n",
    "    ratio_label   = torch.zeros(4,3)\n",
    "    ratio_label[range(4),y] = 1\n",
    "    dscore        = (-ratio_label + score_exp/score_total.view(-1,1))/4\n",
    "    dW = torch.mm(X.t(),dscore)\n",
    "    print(dW)"
   ]
  },
  {
   "cell_type": "markdown",
   "metadata": {},
   "source": [
    "#### pytorch API"
   ]
  },
  {
   "cell_type": "code",
   "execution_count": 50,
   "metadata": {},
   "outputs": [
    {
     "name": "stdout",
     "output_type": "stream",
     "text": [
      "tensor([[-0.3271,  0.3744, -0.0472],\n",
      "        [-0.0770,  0.0185,  0.0586],\n",
      "        [-0.1946,  0.1629,  0.0316]])\n"
     ]
    }
   ],
   "source": [
    "loss.backward()\n",
    "print(W.grad)"
   ]
  },
  {
   "cell_type": "markdown",
   "metadata": {},
   "source": [
    "## sigmoid"
   ]
  },
  {
   "cell_type": "code",
   "execution_count": 5,
   "metadata": {},
   "outputs": [
    {
     "data": {
      "text/plain": [
       "torch.Size([1, 3, 5, 5])"
      ]
     },
     "execution_count": 5,
     "metadata": {},
     "output_type": "execute_result"
    }
   ],
   "source": [
    "# x is the image\n",
    "x = torch.randn(1,3,5,5)\n",
    "x.size()"
   ]
  },
  {
   "cell_type": "code",
   "execution_count": 7,
   "metadata": {},
   "outputs": [
    {
     "data": {
      "text/plain": [
       "torch.Size([1, 2, 5, 5])"
      ]
     },
     "execution_count": 7,
     "metadata": {},
     "output_type": "execute_result"
    }
   ],
   "source": [
    "conv = torch.nn.Conv2d(3,2,kernel_size=1)\n",
    "score = conv(x)\n",
    "score.size()"
   ]
  },
  {
   "cell_type": "markdown",
   "metadata": {},
   "source": [
    "#### sigmoid with pytorch API"
   ]
  },
  {
   "cell_type": "code",
   "execution_count": 16,
   "metadata": {
    "scrolled": true
   },
   "outputs": [
    {
     "data": {
      "text/plain": [
       "tensor([[[[0.4086, 0.3859, 0.4177, 0.4022, 0.3978],\n",
       "          [0.4485, 0.3928, 0.4195, 0.2599, 0.3833],\n",
       "          [0.3592, 0.4228, 0.4180, 0.3212, 0.3197],\n",
       "          [0.4238, 0.3536, 0.2798, 0.3790, 0.4303],\n",
       "          [0.2812, 0.3690, 0.3532, 0.4140, 0.4503]],\n",
       "\n",
       "         [[0.5989, 0.4652, 0.5822, 0.4564, 0.5941],\n",
       "          [0.5758, 0.4407, 0.5424, 0.4572, 0.5406],\n",
       "          [0.5604, 0.6901, 0.6262, 0.4823, 0.4444],\n",
       "          [0.4804, 0.4853, 0.4401, 0.4702, 0.6555],\n",
       "          [0.5444, 0.5608, 0.3800, 0.5361, 0.6534]]]],\n",
       "       grad_fn=<SigmoidBackward>)"
      ]
     },
     "execution_count": 16,
     "metadata": {},
     "output_type": "execute_result"
    }
   ],
   "source": [
    "output_api = torch.sigmoid(score)\n",
    "output_api"
   ]
  },
  {
   "cell_type": "markdown",
   "metadata": {},
   "source": [
    "#### sigmoid with formula"
   ]
  },
  {
   "cell_type": "code",
   "execution_count": 17,
   "metadata": {},
   "outputs": [
    {
     "data": {
      "text/plain": [
       "tensor([[[[0.4086, 0.3859, 0.4177, 0.4022, 0.3978],\n",
       "          [0.4485, 0.3928, 0.4195, 0.2599, 0.3833],\n",
       "          [0.3592, 0.4228, 0.4180, 0.3212, 0.3197],\n",
       "          [0.4238, 0.3536, 0.2798, 0.3790, 0.4303],\n",
       "          [0.2812, 0.3690, 0.3532, 0.4140, 0.4503]],\n",
       "\n",
       "         [[0.5989, 0.4652, 0.5822, 0.4564, 0.5941],\n",
       "          [0.5758, 0.4407, 0.5424, 0.4572, 0.5406],\n",
       "          [0.5604, 0.6901, 0.6262, 0.4823, 0.4444],\n",
       "          [0.4804, 0.4853, 0.4401, 0.4702, 0.6555],\n",
       "          [0.5444, 0.5608, 0.3800, 0.5361, 0.6534]]]], grad_fn=<MulBackward0>)"
      ]
     },
     "execution_count": 17,
     "metadata": {},
     "output_type": "execute_result"
    }
   ],
   "source": [
    "output_formular = 1/(1 + torch.exp(-score))\n",
    "output_formular"
   ]
  },
  {
   "cell_type": "markdown",
   "metadata": {},
   "source": [
    "### BCELoss\n",
    "Binary Cross Entropy Loss"
   ]
  },
  {
   "cell_type": "code",
   "execution_count": 21,
   "metadata": {},
   "outputs": [],
   "source": [
    "# x is the input image\n",
    "x = torch.randn(1,3,5,5)     \n",
    "# y is the target\n",
    "y = torch.zeros(1,2,5,5)     # two class\n",
    "y[:,0,:2,:] = 1\n",
    "y[:,1,2:,:] = 1\n",
    "conv = torch.nn.Conv2d(3,2,kernel_size=1)\n",
    "score = conv(x)\n",
    "output = torch.sigmoid(score)"
   ]
  },
  {
   "cell_type": "markdown",
   "metadata": {},
   "source": [
    "#### BCELoss with pytorch API"
   ]
  },
  {
   "cell_type": "code",
   "execution_count": 23,
   "metadata": {},
   "outputs": [
    {
     "data": {
      "text/plain": [
       "tensor(0.7098, grad_fn=<BinaryCrossEntropyBackward>)"
      ]
     },
     "execution_count": 23,
     "metadata": {},
     "output_type": "execute_result"
    }
   ],
   "source": [
    "loss_fun = torch.nn.BCELoss()\n",
    "loss_api = loss_fun(output,y)\n",
    "loss_api"
   ]
  },
  {
   "cell_type": "markdown",
   "metadata": {},
   "source": [
    "#### BCELoss with formula"
   ]
  },
  {
   "cell_type": "code",
   "execution_count": 62,
   "metadata": {},
   "outputs": [
    {
     "data": {
      "text/plain": [
       "tensor(2.5035)"
      ]
     },
     "execution_count": 62,
     "metadata": {},
     "output_type": "execute_result"
    }
   ],
   "source": [
    "score = torch.tensor([5.,8.])\n",
    "output_y = torch.sigmoid(score)\n",
    "target_y = torch.tensor([0.,1])\n",
    "loss_fun = torch.nn.BCELoss()\n",
    "loss = loss_fun(output_y,target_y)\n",
    "loss"
   ]
  },
  {
   "cell_type": "markdown",
   "metadata": {},
   "source": [
    "第一种计算方式"
   ]
  },
  {
   "cell_type": "code",
   "execution_count": 65,
   "metadata": {},
   "outputs": [
    {
     "data": {
      "text/plain": [
       "tensor(2.5035)"
      ]
     },
     "execution_count": 65,
     "metadata": {},
     "output_type": "execute_result"
    }
   ],
   "source": [
    "loss0 = (target_y[0]*torch.log(output_y[0]) + (1-target_y[0])*torch.log(1-output_y[0]))\n",
    "loss1 = (target_y[1]*torch.log(output_y[1]) + (1-target_y[1])*torch.log(1-output_y[1]))\n",
    "loss = -(loss0+loss1)/2\n",
    "loss"
   ]
  },
  {
   "cell_type": "markdown",
   "metadata": {},
   "source": [
    "第二种计算方式"
   ]
  },
  {
   "cell_type": "code",
   "execution_count": 64,
   "metadata": {},
   "outputs": [
    {
     "data": {
      "text/plain": [
       "tensor(2.5035)"
      ]
     },
     "execution_count": 64,
     "metadata": {},
     "output_type": "execute_result"
    }
   ],
   "source": [
    "loss = target_y*torch.log(output_y) + (1-target_y)*torch.log(1-output_y)\n",
    "loss = -torch.sum(loss)/2\n",
    "loss"
   ]
  },
  {
   "cell_type": "code",
   "execution_count": null,
   "metadata": {},
   "outputs": [],
   "source": []
  }
 ],
 "metadata": {
  "kernelspec": {
   "display_name": "Python dp_pytorch",
   "language": "python",
   "name": "dp_pytorch"
  },
  "language_info": {
   "codemirror_mode": {
    "name": "ipython",
    "version": 3
   },
   "file_extension": ".py",
   "mimetype": "text/x-python",
   "name": "python",
   "nbconvert_exporter": "python",
   "pygments_lexer": "ipython3",
   "version": "3.6.8"
  }
 },
 "nbformat": 4,
 "nbformat_minor": 2
}
