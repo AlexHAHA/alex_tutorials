{
 "cells": [
  {
   "cell_type": "markdown",
   "metadata": {},
   "source": [
    "## 加载数据"
   ]
  },
  {
   "cell_type": "code",
   "execution_count": 1,
   "metadata": {},
   "outputs": [],
   "source": [
    "import numpy as np\n",
    "train_images,train_labels = None,None\n",
    "test_images,test_labels = None,None\n",
    "try:\n",
    "    train_images = np.load('datasets/mnist_npy/train_images.npy')\n",
    "    train_labels = np.load('datasets/mnist_npy/train_labels.npy')\n",
    "    test_images = np.load('datasets/mnist_npy/test_images.npy')\n",
    "    test_labels = np.load('datasets/mnist_npy/test_labels.npy')\n",
    "except:\n",
    "    print('Load failed')"
   ]
  },
  {
   "cell_type": "code",
   "execution_count": 2,
   "metadata": {},
   "outputs": [
    {
     "name": "stdout",
     "output_type": "stream",
     "text": [
      "train data shape:(60000, 28, 28)\n",
      "test data shape:(10000, 28, 28)\n"
     ]
    }
   ],
   "source": [
    "print('train data shape:{}\\ntest data shape:{}'.format(train_images.shape,test_images.shape))"
   ]
  },
  {
   "cell_type": "markdown",
   "metadata": {},
   "source": [
    "## 数据预处理"
   ]
  },
  {
   "cell_type": "code",
   "execution_count": 3,
   "metadata": {},
   "outputs": [],
   "source": [
    "import torch\n",
    "import torch.nn as nn\n",
    "train_images = torch.tensor(train_images/255.)\n",
    "train_labels = torch.tensor(train_labels)\n",
    "test_images = torch.tensor(test_images/255.)\n",
    "test_labels = torch.tensor(test_labels)\n"
   ]
  },
  {
   "cell_type": "code",
   "execution_count": 4,
   "metadata": {},
   "outputs": [
    {
     "data": {
      "text/plain": [
       "torch.Size([60000, 28, 28])"
      ]
     },
     "execution_count": 4,
     "metadata": {},
     "output_type": "execute_result"
    }
   ],
   "source": [
    "train_images.size()"
   ]
  },
  {
   "cell_type": "code",
   "execution_count": 5,
   "metadata": {},
   "outputs": [
    {
     "name": "stdout",
     "output_type": "stream",
     "text": [
      "torch.Size([60000, 1, 28, 28])\n",
      "torch.Size([60000])\n"
     ]
    }
   ],
   "source": [
    "X_train = torch.unsqueeze(train_images,dim=1).type(torch.FloatTensor)\n",
    "y_train = train_labels.type(torch.LongTensor)\n",
    "X_test = torch.unsqueeze(test_images,dim=1).type(torch.FloatTensor)\n",
    "y_test = test_labels.type(torch.LongTensor)\n",
    "\n",
    "print(X_train.size())\n",
    "print(y_train.size())"
   ]
  },
  {
   "cell_type": "markdown",
   "metadata": {},
   "source": [
    "## 定义网络结构"
   ]
  },
  {
   "cell_type": "code",
   "execution_count": 8,
   "metadata": {},
   "outputs": [],
   "source": [
    "class MyCNN(nn.Module):\n",
    "    def __init__(self):\n",
    "        super(MyCNN,self).__init__()\n",
    "        self.conv1 = nn.Conv2d(in_channels=1,out_channels=16,kernel_size=5)\n",
    "        self.relu1 = nn.ReLU()\n",
    "        self.maxpool1 = nn.MaxPool2d(kernel_size=2)\n",
    "        \n",
    "        self.out = nn.Linear(in_features=16*12*12,out_features=10)\n",
    "        \n",
    "    def forward(self,x):\n",
    "        x = self.conv1(x)\n",
    "        x = self.relu1(x)\n",
    "        x = self.maxpool1(x)\n",
    "        x = x.view(x.size(0),-1)\n",
    "        output = self.out(x)\n",
    "        return output\n",
    "    "
   ]
  },
  {
   "cell_type": "code",
   "execution_count": 9,
   "metadata": {},
   "outputs": [
    {
     "name": "stdout",
     "output_type": "stream",
     "text": [
      "MyCNN(\n",
      "  (conv1): Conv2d(1, 16, kernel_size=(5, 5), stride=(1, 1))\n",
      "  (relu1): ReLU()\n",
      "  (maxpool1): MaxPool2d(kernel_size=2, stride=2, padding=0, dilation=1, ceil_mode=False)\n",
      "  (out): Linear(in_features=2304, out_features=10, bias=True)\n",
      ")\n"
     ]
    }
   ],
   "source": [
    "cnn = MyCNN()\n",
    "print(cnn)"
   ]
  },
  {
   "cell_type": "markdown",
   "metadata": {},
   "source": [
    "## 训练"
   ]
  },
  {
   "cell_type": "code",
   "execution_count": 11,
   "metadata": {},
   "outputs": [
    {
     "name": "stdout",
     "output_type": "stream",
     "text": [
      "[0/60000(0)%]\t Loss:0.128275\n",
      "[5000/60000(8)%]\t Loss:0.116906\n",
      "[10000/60000(17)%]\t Loss:0.109363\n",
      "[15000/60000(25)%]\t Loss:0.016473\n",
      "[20000/60000(33)%]\t Loss:0.129094\n",
      "[25000/60000(42)%]\t Loss:0.011980\n",
      "[30000/60000(50)%]\t Loss:0.170794\n",
      "[35000/60000(58)%]\t Loss:0.038379\n",
      "[40000/60000(67)%]\t Loss:0.077099\n",
      "[45000/60000(75)%]\t Loss:0.068887\n"
     ]
    }
   ],
   "source": [
    "optimizer = torch.optim.Adam(cnn.parameters(),lr=0.001)\n",
    "loss_func = nn.CrossEntropyLoss()\n",
    "\n",
    "batch_size = 50\n",
    "for step in range(1000):\n",
    "    X_batch = X_train[step*batch_size:(step+1)*batch_size]\n",
    "    y_batch = y_train[step*batch_size:(step+1)*batch_size]\n",
    "    output = cnn(X_batch)\n",
    "    loss = loss_func(output,y_batch)\n",
    "    optimizer.zero_grad()\n",
    "    loss.backward(retain_graph=True)\n",
    "    optimizer.step()\n",
    "    if step%100 == 0:\n",
    "        print('[{0}/{1}({2:.0f})%]\\t Loss:{3:.6f}'.format(\n",
    "                            batch_size*step,\n",
    "                            len(X_train),\n",
    "                            (batch_size*step*100.0)/len(X_train),loss))"
   ]
  },
  {
   "cell_type": "markdown",
   "metadata": {},
   "source": [
    "## 测试"
   ]
  },
  {
   "cell_type": "code",
   "execution_count": 12,
   "metadata": {},
   "outputs": [
    {
     "name": "stdout",
     "output_type": "stream",
     "text": [
      "torch.Size([1000, 10])\n",
      "Loss:0.0708,Accuracy:978/1000(97.8000)\n"
     ]
    }
   ],
   "source": [
    "test_number = 1000\n",
    "test_data = X_test[:test_number]\n",
    "test_target = y_test[:test_number]\n",
    "test_output = cnn(test_data)\n",
    "test_loss = loss_func(test_output,test_target)\n",
    "\n",
    "print(test_output.size())\n",
    "\n",
    "predict = test_output.argmax(dim=1,keepdim=True)\n",
    "correct = predict.eq(test_target.view_as(predict)).sum().item()\n",
    "accuracy = 100.0 * correct/test_number\n",
    "print('Loss:{0:.4f},Accuracy:{1}/{2}({3:.4f})'.format(\n",
    "                test_loss,correct,test_number,accuracy))"
   ]
  },
  {
   "cell_type": "code",
   "execution_count": 15,
   "metadata": {},
   "outputs": [
    {
     "data": {
      "text/plain": [
       "torch.Size([1000, 1])"
      ]
     },
     "execution_count": 15,
     "metadata": {},
     "output_type": "execute_result"
    }
   ],
   "source": [
    "predict.size()"
   ]
  },
  {
   "cell_type": "code",
   "execution_count": null,
   "metadata": {},
   "outputs": [],
   "source": []
  }
 ],
 "metadata": {
  "kernelspec": {
   "display_name": "Python 3",
   "language": "python",
   "name": "python3"
  },
  "language_info": {
   "codemirror_mode": {
    "name": "ipython",
    "version": 3
   },
   "file_extension": ".py",
   "mimetype": "text/x-python",
   "name": "python",
   "nbconvert_exporter": "python",
   "pygments_lexer": "ipython3",
   "version": "3.6.8"
  }
 },
 "nbformat": 4,
 "nbformat_minor": 4
}
