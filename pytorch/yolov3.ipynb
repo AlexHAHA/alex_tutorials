{
 "cells": [
  {
   "cell_type": "markdown",
   "metadata": {},
   "source": [
    "本文档是基于eriklindernoren的yolov3开源代码进行的相关学习记录"
   ]
  },
  {
   "cell_type": "code",
   "execution_count": 2,
   "metadata": {},
   "outputs": [],
   "source": [
    "import torch\n",
    "import torch.nn as nn\n",
    "import numpy as np"
   ]
  },
  {
   "cell_type": "markdown",
   "metadata": {},
   "source": [
    "## models.py"
   ]
  },
  {
   "cell_type": "markdown",
   "metadata": {},
   "source": [
    "### compute_grid_offsets"
   ]
  },
  {
   "cell_type": "code",
   "execution_count": 16,
   "metadata": {},
   "outputs": [
    {
     "name": "stdout",
     "output_type": "stream",
     "text": [
      "tensor([ 0,  1,  2,  3,  4,  5,  6,  7,  8,  9, 10, 11, 12])\n",
      "tensor([[ 0,  1,  2,  3,  4,  5,  6,  7,  8,  9, 10, 11, 12],\n",
      "        [ 0,  1,  2,  3,  4,  5,  6,  7,  8,  9, 10, 11, 12],\n",
      "        [ 0,  1,  2,  3,  4,  5,  6,  7,  8,  9, 10, 11, 12],\n",
      "        [ 0,  1,  2,  3,  4,  5,  6,  7,  8,  9, 10, 11, 12],\n",
      "        [ 0,  1,  2,  3,  4,  5,  6,  7,  8,  9, 10, 11, 12],\n",
      "        [ 0,  1,  2,  3,  4,  5,  6,  7,  8,  9, 10, 11, 12],\n",
      "        [ 0,  1,  2,  3,  4,  5,  6,  7,  8,  9, 10, 11, 12],\n",
      "        [ 0,  1,  2,  3,  4,  5,  6,  7,  8,  9, 10, 11, 12],\n",
      "        [ 0,  1,  2,  3,  4,  5,  6,  7,  8,  9, 10, 11, 12],\n",
      "        [ 0,  1,  2,  3,  4,  5,  6,  7,  8,  9, 10, 11, 12],\n",
      "        [ 0,  1,  2,  3,  4,  5,  6,  7,  8,  9, 10, 11, 12],\n",
      "        [ 0,  1,  2,  3,  4,  5,  6,  7,  8,  9, 10, 11, 12],\n",
      "        [ 0,  1,  2,  3,  4,  5,  6,  7,  8,  9, 10, 11, 12]]) torch.Size([13, 13])\n",
      "torch.Size([1, 1, 13, 13])\n"
     ]
    }
   ],
   "source": [
    "'''\n",
    "grid_x\n",
    "'''\n",
    "g = 13 # grid_size\n",
    "grid_x = torch.arange(g)\n",
    "print(grid_x)\n",
    "grid_x = grid_x.repeat(g,1)\n",
    "print(grid_x,grid_x.size())\n",
    "grid_x = grid_x.view([1,1,g,g])\n",
    "print(grid_x.size())"
   ]
  },
  {
   "cell_type": "code",
   "execution_count": 10,
   "metadata": {},
   "outputs": [
    {
     "name": "stdout",
     "output_type": "stream",
     "text": [
      "tensor([[0.3125, 0.4062],\n",
      "        [0.5000, 0.9375],\n",
      "        [1.0312, 0.7188]])\n"
     ]
    }
   ],
   "source": [
    "'''\n",
    "scaled_anchors\n",
    "'''\n",
    "anchors = [(10,13),  (16,30),  (33,23)]\n",
    "num_anchors = len(anchors)\n",
    "stride = 32\n",
    "scaled_anchors = torch.FloatTensor([(a_w/stride, a_h/stride) for a_w, a_h in anchors])\n",
    "print(scaled_anchors)"
   ]
  },
  {
   "cell_type": "code",
   "execution_count": 14,
   "metadata": {},
   "outputs": [
    {
     "name": "stdout",
     "output_type": "stream",
     "text": [
      "tensor([[[[0.3125]],\n",
      "\n",
      "         [[0.5000]],\n",
      "\n",
      "         [[1.0312]]]]) torch.Size([1, 3, 1, 1])\n"
     ]
    }
   ],
   "source": [
    "'''\n",
    "anchor_w, anchor_h\n",
    "'''\n",
    "anchor_w = scaled_anchors[:, 0:1].view((1, num_anchors, 1, 1))\n",
    "print(anchor_w, anchor_w.size())"
   ]
  },
  {
   "cell_type": "code",
   "execution_count": 15,
   "metadata": {},
   "outputs": [
    {
     "name": "stdout",
     "output_type": "stream",
     "text": [
      "tensor([[[[0.4062]],\n",
      "\n",
      "         [[0.9375]],\n",
      "\n",
      "         [[0.7188]]]]) torch.Size([1, 3, 1, 1])\n"
     ]
    }
   ],
   "source": [
    "anchor_h = scaled_anchors[:, 1:2].view((1, num_anchors, 1, 1))\n",
    "print(anchor_h, anchor_h.size())"
   ]
  },
  {
   "cell_type": "markdown",
   "metadata": {},
   "source": [
    "## utils.py"
   ]
  },
  {
   "cell_type": "markdown",
   "metadata": {},
   "source": [
    "### bbox_wh_iou"
   ]
  },
  {
   "cell_type": "code",
   "execution_count": 17,
   "metadata": {},
   "outputs": [],
   "source": [
    "def bbox_wh_iou(wh1, wh2):\n",
    "    wh2 = wh2.t()\n",
    "    w1, h1 = wh1[0], wh1[1]\n",
    "    w2, h2 = wh2[0], wh2[1]\n",
    "    inter_area = torch.min(w1, w2) * torch.min(h1, h2)\n",
    "    union_area = (w1 * h1 + 1e-16) + w2 * h2 - inter_area\n",
    "    return inter_area / union_area"
   ]
  },
  {
   "cell_type": "code",
   "execution_count": 29,
   "metadata": {},
   "outputs": [],
   "source": [
    "anchors = [(116,90),  (156,198),  (373,326)]\n",
    "stride = 32\n",
    "scaled_anchors = torch.FloatTensor([(a_w/stride, a_h/stride) for a_w, a_h in anchors])"
   ]
  },
  {
   "cell_type": "code",
   "execution_count": 30,
   "metadata": {},
   "outputs": [],
   "source": [
    "num_grid = 13\n",
    "targets = torch.tensor([[0.0000, 0.0000, 0.5100, 0.5000, 0.1454, 0.1829],\n",
    "        [1.0000, 0.0000, 0.7122, 0.6250, 0.2630, 0.4297],\n",
    "        [1.0000, 1.0000, 0.5540, 0.4870, 0.5951, 0.3932],\n",
    "        [1.0000, 2.0000, 0.2454, 0.2780, 0.2982, 0.1471]])\n",
    "gwh = targets[:,-2:]"
   ]
  },
  {
   "cell_type": "code",
   "execution_count": 31,
   "metadata": {},
   "outputs": [
    {
     "data": {
      "text/plain": [
       "tensor([0.0026, 0.0111, 0.0230, 0.0043])"
      ]
     },
     "execution_count": 31,
     "metadata": {},
     "output_type": "execute_result"
    }
   ],
   "source": [
    "iou = bbox_wh_iou(scaled_anchors[0], gwh)\n",
    "iou"
   ]
  },
  {
   "cell_type": "code",
   "execution_count": 32,
   "metadata": {},
   "outputs": [
    {
     "data": {
      "text/plain": [
       "tensor([[0.0026, 0.0111, 0.0230, 0.0043],\n",
       "        [0.0009, 0.0037, 0.0078, 0.0015],\n",
       "        [0.0002, 0.0010, 0.0020, 0.0004]])"
      ]
     },
     "execution_count": 32,
     "metadata": {},
     "output_type": "execute_result"
    }
   ],
   "source": [
    "ious = torch.stack([bbox_wh_iou(anchor, gwh) for anchor in scaled_anchors])\n",
    "ious"
   ]
  },
  {
   "cell_type": "markdown",
   "metadata": {},
   "source": [
    "### bbox_iou"
   ]
  },
  {
   "cell_type": "code",
   "execution_count": null,
   "metadata": {},
   "outputs": [],
   "source": [
    "def bbox_iou(box1, box2, x1y1x2y2=True):\n",
    "    \"\"\"\n",
    "    Returns the IoU of two bounding boxes\n",
    "    \"\"\"\n",
    "    if not x1y1x2y2:\n",
    "        # Transform from center and width to exact coordinates\n",
    "        b1_x1, b1_x2 = box1[:, 0] - box1[:, 2] / 2, box1[:, 0] + box1[:, 2] / 2\n",
    "        b1_y1, b1_y2 = box1[:, 1] - box1[:, 3] / 2, box1[:, 1] + box1[:, 3] / 2\n",
    "        b2_x1, b2_x2 = box2[:, 0] - box2[:, 2] / 2, box2[:, 0] + box2[:, 2] / 2\n",
    "        b2_y1, b2_y2 = box2[:, 1] - box2[:, 3] / 2, box2[:, 1] + box2[:, 3] / 2\n",
    "    else:\n",
    "        # Get the coordinates of bounding boxes\n",
    "        b1_x1, b1_y1, b1_x2, b1_y2 = box1[:, 0], box1[:, 1], box1[:, 2], box1[:, 3]\n",
    "        b2_x1, b2_y1, b2_x2, b2_y2 = box2[:, 0], box2[:, 1], box2[:, 2], box2[:, 3]\n",
    "\n",
    "    # get the corrdinates of the intersection rectangle\n",
    "    inter_rect_x1 = torch.max(b1_x1, b2_x1)\n",
    "    inter_rect_y1 = torch.max(b1_y1, b2_y1)\n",
    "    inter_rect_x2 = torch.min(b1_x2, b2_x2)\n",
    "    inter_rect_y2 = torch.min(b1_y2, b2_y2)\n",
    "    # Intersection area\n",
    "    inter_area = torch.clamp(inter_rect_x2 - inter_rect_x1 + 1, min=0) * torch.clamp(\n",
    "        inter_rect_y2 - inter_rect_y1 + 1, min=0\n",
    "    )\n",
    "    # Union Area\n",
    "    b1_area = (b1_x2 - b1_x1 + 1) * (b1_y2 - b1_y1 + 1)\n",
    "    b2_area = (b2_x2 - b2_x1 + 1) * (b2_y2 - b2_y1 + 1)\n",
    "\n",
    "    iou = inter_area / (b1_area + b2_area - inter_area + 1e-16)\n",
    "\n",
    "    return iou"
   ]
  },
  {
   "cell_type": "code",
   "execution_count": null,
   "metadata": {},
   "outputs": [],
   "source": [
    "pred_boxes = torch.randn(2,)"
   ]
  },
  {
   "cell_type": "markdown",
   "metadata": {},
   "source": [
    "### build_targets"
   ]
  },
  {
   "cell_type": "code",
   "execution_count": 2,
   "metadata": {},
   "outputs": [],
   "source": [
    "''' \n",
    "Get anchors with best iou\n",
    "'''\n",
    "ious = torch.tensor([[0.2095, 0.8026, 0.5161, 0.3455],\n",
    "        [0.0567, 0.2411, 0.3884, 0.0936],\n",
    "        [0.0359, 0.1525, 0.3157, 0.0592]])"
   ]
  },
  {
   "cell_type": "code",
   "execution_count": 3,
   "metadata": {},
   "outputs": [
    {
     "name": "stdout",
     "output_type": "stream",
     "text": [
      "tensor([0.2095, 0.8026, 0.5161, 0.3455])\n",
      "tensor([0, 0, 0, 0])\n"
     ]
    }
   ],
   "source": [
    "best_ious, best_n = ious.max(0)\n",
    "print(best_ious)\n",
    "print(best_n)"
   ]
  },
  {
   "cell_type": "code",
   "execution_count": 4,
   "metadata": {},
   "outputs": [
    {
     "data": {
      "text/plain": [
       "'\\ncoordinates\\n'"
      ]
     },
     "execution_count": 4,
     "metadata": {},
     "output_type": "execute_result"
    }
   ],
   "source": [
    "'''\n",
    "coordinates\n",
    "'''\n"
   ]
  },
  {
   "cell_type": "code",
   "execution_count": 8,
   "metadata": {},
   "outputs": [
    {
     "name": "stdout",
     "output_type": "stream",
     "text": [
      "tensor([1, 1, 1, 1])\n",
      "tensor([0., 1., 1., 0.])\n"
     ]
    }
   ],
   "source": [
    "'''\n",
    "Compute label correctness\n",
    "'''\n",
    "b = torch.tensor([0,1,1,1])\n",
    "best_n = torch.tensor([0,1,1,2])\n",
    "gj = torch.tensor([1,5,6,10])\n",
    "gi = torch.tensor([2,8,3,1])\n",
    "class_mask = torch.FloatTensor(2,3,13,13)\n",
    "pred_cls = torch.randn(2,3,13,13,3)\n",
    "target_labels = torch.tensor([0,1,1,0])\n",
    "#\n",
    "p_max = pred_cls[b,best_n,gj,gi].argmax(-1)\n",
    "print(p_max)\n",
    "msk = (p_max == target_labels).float()\n",
    "print(msk)\n",
    "# 出现目标的grids，将预测正确类别的grid所在位置置为1\n",
    "class_mask[b,best_n,gj,gi] = msk"
   ]
  },
  {
   "cell_type": "code",
   "execution_count": null,
   "metadata": {},
   "outputs": [],
   "source": []
  }
 ],
 "metadata": {
  "kernelspec": {
   "display_name": "dp_pytorch11_GPU ",
   "language": "python",
   "name": "dp_pytorch11_gpu"
  },
  "language_info": {
   "codemirror_mode": {
    "name": "ipython",
    "version": 3
   },
   "file_extension": ".py",
   "mimetype": "text/x-python",
   "name": "python",
   "nbconvert_exporter": "python",
   "pygments_lexer": "ipython3",
   "version": "3.6.9"
  }
 },
 "nbformat": 4,
 "nbformat_minor": 2
}
