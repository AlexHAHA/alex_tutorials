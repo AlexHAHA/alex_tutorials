{
 "cells": [
  {
   "cell_type": "code",
   "execution_count": 4,
   "metadata": {},
   "outputs": [],
   "source": [
    "import torch\n",
    "x = torch.ones(2,2,requires_grad=True)\n",
    "y = x*3\n",
    "y.backward(torch.ones(2,2))\n"
   ]
  },
  {
   "cell_type": "code",
   "execution_count": 5,
   "metadata": {},
   "outputs": [
    {
     "name": "stdout",
     "output_type": "stream",
     "text": [
      "tensor([[3., 3.],\n",
      "        [3., 3.]])\n"
     ]
    }
   ],
   "source": [
    "print(x.grad)"
   ]
  },
  {
   "cell_type": "code",
   "execution_count": 18,
   "metadata": {},
   "outputs": [],
   "source": [
    "a = torch.FloatTensor([2,3])\n",
    "a.requires_grad_(True)\n",
    "b = a + 3\n",
    "c = b*b *3\n",
    "out = c.mean()\n"
   ]
  },
  {
   "cell_type": "code",
   "execution_count": 35,
   "metadata": {},
   "outputs": [
    {
     "name": "stdout",
     "output_type": "stream",
     "text": [
      "tensor([[4., 0.],\n",
      "        [3., 0.]])\n"
     ]
    }
   ],
   "source": [
    "j = torch.zeros(2,2)\n",
    "k = torch.zeros(1,2)\n",
    "m = torch.FloatTensor([[2,3]])\n",
    "m.requires_grad_(True)\n",
    "\n",
    "\n",
    "k[0,0] = m[0,0]**2 + 3*m[0,1]\n",
    "k[0,1] = m[0,1]**2 + 2*m[0,0]\n",
    "k.backward(torch.FloatTensor([[1,0]]))\n",
    "\n",
    "j[:,0] = m.grad.data\n",
    "print(j)\n"
   ]
  },
  {
   "cell_type": "code",
   "execution_count": 33,
   "metadata": {},
   "outputs": [
    {
     "data": {
      "text/plain": [
       "torch.Size([1, 2])"
      ]
     },
     "execution_count": 33,
     "metadata": {},
     "output_type": "execute_result"
    }
   ],
   "source": [
    "m.size()"
   ]
  },
  {
   "cell_type": "code",
   "execution_count": null,
   "metadata": {},
   "outputs": [],
   "source": []
  }
 ],
 "metadata": {
  "kernelspec": {
   "display_name": "Python dp_pytorch",
   "language": "python",
   "name": "dp_pytorch"
  },
  "language_info": {
   "codemirror_mode": {
    "name": "ipython",
    "version": 3
   },
   "file_extension": ".py",
   "mimetype": "text/x-python",
   "name": "python",
   "nbconvert_exporter": "python",
   "pygments_lexer": "ipython3",
   "version": "3.6.8"
  }
 },
 "nbformat": 4,
 "nbformat_minor": 2
}
