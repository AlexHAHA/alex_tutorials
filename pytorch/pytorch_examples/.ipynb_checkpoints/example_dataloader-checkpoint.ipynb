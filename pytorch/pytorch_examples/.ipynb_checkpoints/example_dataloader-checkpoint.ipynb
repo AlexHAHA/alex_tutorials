{
 "cells": [
  {
   "cell_type": "markdown",
   "metadata": {},
   "source": [
    "对数据进行预处理和加载是一件非常重要的事情，在pytorch中，使用类**Dataset**和**DataLoader**，其所在的package是**torch.utils.data**。"
   ]
  },
  {
   "cell_type": "markdown",
   "metadata": {},
   "source": [
    "## Dataset\n",
    "Dataset是一个抽象类，在用户需要加载自定义数据的时候进行继承并重写如下两个方法：\n",
    "- \\_\\_getitem\\_\\_: 用来获取数据集索引的数据，例如dataset[i]返回数据集第i个样本。\n",
    "- \\_\\_len\\_\\_: 实现返回整个数据集的大小。\n",
    "\n",
    "也就是说Dataset的\\_\\_getitem\\_\\_函数实现了数据的方式(例如有时数据读取需要不同格式文件的读取操作等)以及定义了每个每个item的内容(例如item可以包含一个image_tensor及label_tensor)。"
   ]
  },
  {
   "cell_type": "markdown",
   "metadata": {},
   "source": [
    "## DataLoader\n",
    "定义好Dataset后，就可以使用DataLoader去加载数据了。\n",
    "其参数定义如下：\n",
    "```\n",
    "class torch.utils.data.DataLoader(\n",
    "    dataset,\n",
    "    batch_size=1,\n",
    "    shuffle=False,\n",
    "    sampler=None,\n",
    "    batch_sampler=None,\n",
    "    num_workers=0,\n",
    "    collate_fn=<function default_collate>,\n",
    "    pin_memory=False,\n",
    "    drop_last=False,\n",
    "    timeout=0,\n",
    "    worker_init_fn=None)\n",
    "```\n",
    "- num_workers:即加载数据时制定进程数量(=0表示自动设置)，在Windows下该参数设置为0，否则运行报错。"
   ]
  },
  {
   "cell_type": "markdown",
   "metadata": {},
   "source": [
    "### collate_fn\n",
    "该函数明确了数据集加载过程中进行的处理操作。\n",
    "\n",
    "函数的参数是一个list，list中的每个原始就是Dataset里面定义的\\_\\_getitem\\_\\_这个函数的返回值。\n",
    "```\n",
    "def collate_fn(batch):\n",
    "    '''\n",
    "    对batch进行处理和操作\n",
    "    '''\n",
    "    return batch\n",
    "```\n",
    "通过collate_fn可以对一个batch进行进一步的处理"
   ]
  },
  {
   "cell_type": "code",
   "execution_count": null,
   "metadata": {},
   "outputs": [],
   "source": []
  },
  {
   "cell_type": "markdown",
   "metadata": {},
   "source": [
    "## Example:"
   ]
  },
  {
   "cell_type": "markdown",
   "metadata": {},
   "source": [
    "### 示例1"
   ]
  },
  {
   "cell_type": "code",
   "execution_count": 5,
   "metadata": {},
   "outputs": [],
   "source": [
    "import torch\n",
    "from torch.utils.data import Dataset,DataLoader"
   ]
  },
  {
   "cell_type": "code",
   "execution_count": 2,
   "metadata": {},
   "outputs": [
    {
     "data": {
      "text/plain": [
       "tensor([0., 1., 2., 3., 4., 5., 6., 7., 8., 9.])"
      ]
     },
     "execution_count": 2,
     "metadata": {},
     "output_type": "execute_result"
    }
   ],
   "source": [
    "number = torch.Tensor(list(range(10)))\n",
    "number"
   ]
  },
  {
   "cell_type": "code",
   "execution_count": 4,
   "metadata": {},
   "outputs": [],
   "source": [
    "class MyDataset(Dataset):\n",
    "    def __init__(self, data):\n",
    "        self.data = data\n",
    "    def __getitem__(self, index):\n",
    "        return self.data[index]\n",
    "    def __len__(self):\n",
    "        return len(self.data)"
   ]
  },
  {
   "cell_type": "code",
   "execution_count": 6,
   "metadata": {},
   "outputs": [],
   "source": [
    "dataset = MyDataset(number)\n",
    "dataloader = DataLoader(\n",
    "                dataset,\n",
    "                batch_size=2,\n",
    "                shuffle=False,\n",
    "                num_workers=0)\n"
   ]
  },
  {
   "cell_type": "code",
   "execution_count": 7,
   "metadata": {},
   "outputs": [
    {
     "name": "stdout",
     "output_type": "stream",
     "text": [
      "0,tensor([0., 1.])\n",
      "1,tensor([2., 3.])\n",
      "2,tensor([4., 5.])\n",
      "3,tensor([6., 7.])\n",
      "4,tensor([8., 9.])\n"
     ]
    }
   ],
   "source": [
    "for idx, num in enumerate(dataloader):\n",
    "    print(f\"{idx},{num}\")"
   ]
  },
  {
   "cell_type": "markdown",
   "metadata": {},
   "source": [
    "### 示例2："
   ]
  },
  {
   "cell_type": "code",
   "execution_count": 8,
   "metadata": {},
   "outputs": [],
   "source": [
    "import torch\n",
    "from torch.utils.data import Dataset,DataLoader"
   ]
  },
  {
   "cell_type": "code",
   "execution_count": 14,
   "metadata": {},
   "outputs": [],
   "source": [
    "imgs   = torch.rand(10,3,5,5)\n",
    "labels = torch.rand(10,1)"
   ]
  },
  {
   "cell_type": "code",
   "execution_count": 54,
   "metadata": {},
   "outputs": [],
   "source": [
    "class MyDataset(Dataset):\n",
    "    def __init__(self, imgs,labels):\n",
    "        self.imgs   = imgs\n",
    "        self.labels = labels\n",
    "        \n",
    "    def __getitem__(self, index):\n",
    "        img   = self.imgs[index]\n",
    "        label = self.labels[index]\n",
    "        #注意这种返回方式使得item=(img,label)是一个tuple类型\n",
    "        return img,label\n",
    "    \n",
    "    def __len__(self):\n",
    "        return self.imgs.shape[0]\n",
    "    \n",
    "    def collate_fn(self,batch):\n",
    "        '''\n",
    "        batch是一个list，每个成员是__getitem__反回的tuple=(img,label)，\n",
    "        故需要对tuple进行处理，将img组合为新的tensor，将label组合为新的tensor\n",
    "        '''\n",
    "        #imgs, labels = list(zip(*batch))\n",
    "        #imgs是包含tensor的tuple类型,   例如imgs=(img1,img2...)\n",
    "        #labels是包含tensor的tuple类型，例如labels=(lbl1,lbl2...)\n",
    "        imgs, labels = zip(*batch)\n",
    "        #将tuple内的tensor叠在一起\n",
    "        imgs   = torch.stack([img for img in imgs])\n",
    "        labels = torch.stack([label for label in labels])\n",
    "        '''\n",
    "        对每个image第一行进行一些操作\n",
    "        '''\n",
    "        #imgs[:,:,0,:] = 2\n",
    "        return imgs, labels"
   ]
  },
  {
   "cell_type": "code",
   "execution_count": 55,
   "metadata": {},
   "outputs": [],
   "source": [
    "dataset = MyDataset(imgs,labels)\n",
    "dataloader = DataLoader(\n",
    "                dataset,\n",
    "                batch_size=2,\n",
    "                shuffle=False,\n",
    "                num_workers=0,\n",
    "                collate_fn=dataset.collate_fn)"
   ]
  },
  {
   "cell_type": "code",
   "execution_count": 57,
   "metadata": {},
   "outputs": [
    {
     "name": "stdout",
     "output_type": "stream",
     "text": [
      "<<idx>>0\n",
      "img shape=torch.Size([2, 3, 5, 5]),label shape=torch.Size([2, 1])\n",
      "<<idx>>1\n",
      "img shape=torch.Size([2, 3, 5, 5]),label shape=torch.Size([2, 1])\n",
      "<<idx>>2\n",
      "img shape=torch.Size([2, 3, 5, 5]),label shape=torch.Size([2, 1])\n",
      "<<idx>>3\n",
      "img shape=torch.Size([2, 3, 5, 5]),label shape=torch.Size([2, 1])\n",
      "<<idx>>4\n",
      "img shape=torch.Size([2, 3, 5, 5]),label shape=torch.Size([2, 1])\n"
     ]
    }
   ],
   "source": [
    "for idx, (img,label) in enumerate(dataloader):\n",
    "    print(f\"<<idx>>{idx}\")\n",
    "    print(f\"img shape={img.shape},label shape={label.shape}\")\n",
    "    "
   ]
  }
 ],
 "metadata": {
  "kernelspec": {
   "display_name": "dp_pytorch11_GPU ",
   "language": "python",
   "name": "dp_pytorch11_gpu"
  },
  "language_info": {
   "codemirror_mode": {
    "name": "ipython",
    "version": 3
   },
   "file_extension": ".py",
   "mimetype": "text/x-python",
   "name": "python",
   "nbconvert_exporter": "python",
   "pygments_lexer": "ipython3",
   "version": "3.6.9"
  }
 },
 "nbformat": 4,
 "nbformat_minor": 2
}
